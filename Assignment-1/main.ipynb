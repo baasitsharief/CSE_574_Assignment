{
  "nbformat": 4,
  "nbformat_minor": 2,
  "metadata": {
    "colab": {
      "name": "CSE574-Assignment1.ipynb",
      "provenance": [],
      "collapsed_sections": [],
      "toc_visible": true
    },
    "kernelspec": {
      "display_name": "Python 3",
      "name": "python3"
    },
    "language_info": {
      "name": "python"
    }
  },
  "cells": [
    {
      "cell_type": "markdown",
      "source": [
        "# Importing required libraries"
      ],
      "metadata": {
        "id": "MsxDfpAOMsJv"
      }
    },
    {
      "cell_type": "code",
      "execution_count": 4,
      "source": [
        "import numpy as np\r\n",
        "from tqdm import tqdm, trange\r\n",
        "from sklearn.datasets import make_classification\r\n",
        "from sklearn.metrics import accuracy_score, f1_score, classification_report, confusion_matrix\r\n",
        "import matplotlib.image  as mpimg\r\n",
        "import matplotlib.pyplot as plt\r\n",
        "from sklearn.model_selection import train_test_split\r\n",
        "import pandas as pd\r\n",
        "import tensorflow as tf\r\n",
        "import tensorflow.keras as keras\r\n",
        "from tensorflow.keras.layers import Dense, Dropout\r\n",
        "from tensorflow.keras import Input\r\n",
        "from tensorflow.keras.losses import BinaryCrossentropy\r\n",
        "from tensorflow.keras.optimizers import RMSprop, SGD\r\n",
        "from tensorflow.keras.models import Model\r\n",
        "from tensorflow.keras.utils import plot_model, model_to_dot"
      ],
      "outputs": [],
      "metadata": {
        "id": "0XVA7mf6T3yD"
      }
    },
    {
      "cell_type": "code",
      "execution_count": null,
      "source": [
        "tf.random.set_seed(0)"
      ],
      "outputs": [],
      "metadata": {
        "id": "0DhFdDUgGCvI"
      }
    },
    {
      "cell_type": "markdown",
      "source": [
        "# Defining Basic Functions\n",
        "\n"
      ],
      "metadata": {
        "id": "96jtX_dTVDqm"
      }
    },
    {
      "cell_type": "markdown",
      "source": [
        "### Preprocessing function"
      ],
      "metadata": {
        "id": "iFcJN5ooNTh6"
      }
    },
    {
      "cell_type": "code",
      "execution_count": null,
      "source": [
        "def normalize(df):\r\n",
        "  return (df-df.mean())/df.std()"
      ],
      "outputs": [],
      "metadata": {
        "id": "BRC245XXBRbB"
      }
    },
    {
      "cell_type": "markdown",
      "source": [
        "### Sigmoid Function"
      ],
      "metadata": {
        "id": "aqsQtamsNeDd"
      }
    },
    {
      "cell_type": "code",
      "execution_count": null,
      "source": [
        "def sigmoid(X):\r\n",
        "  '''\r\n",
        "  Calculates sigmoid of a vector x.\r\n",
        "  '''\r\n",
        "  return 1/(1 + np.exp(-X))"
      ],
      "outputs": [],
      "metadata": {
        "id": "Dj_WYDlQUDvR"
      }
    },
    {
      "cell_type": "markdown",
      "source": [
        "### Cost Function"
      ],
      "metadata": {
        "id": "Qipj4Q3zNhNv"
      }
    },
    {
      "cell_type": "code",
      "execution_count": null,
      "source": [
        "def cost_func(logits, Y, m):\r\n",
        "  eps = 1e-10   #to avoid log(0) : arithmetic error\r\n",
        "  cost = -(np.dot(Y,np.log(logits).T)+np.dot((1-Y),np.log(1-logits).T))/m\r\n",
        "  cost = np.squeeze(cost)\r\n",
        "  cost = cost.item()\r\n",
        "\r\n",
        "  return cost"
      ],
      "outputs": [],
      "metadata": {
        "id": "hNkshWvkqgpk"
      }
    },
    {
      "cell_type": "markdown",
      "source": [
        "### One step of gradient descent"
      ],
      "metadata": {
        "id": "OVINX0CsNn0V"
      }
    },
    {
      "cell_type": "code",
      "execution_count": null,
      "source": [
        "def do_regression(w, b, X, Y, learning_rate):\r\n",
        "  m = X.shape[1]\r\n",
        "  logits = sigmoid(np.dot(w.T,X)+b)\r\n",
        "  cost = cost_func(logits, Y, m)\r\n",
        "  b = b - learning_rate*np.sum(logits-Y)/m\r\n",
        "  w = w - learning_rate*np.dot(X,(logits-Y).T)/m\r\n",
        "\r\n",
        "  return (w, b, cost)"
      ],
      "outputs": [],
      "metadata": {
        "id": "uv4iBbszqliG"
      }
    },
    {
      "cell_type": "markdown",
      "source": [
        "### Weight Initialization"
      ],
      "metadata": {
        "id": "BWA59PFFNq3I"
      }
    },
    {
      "cell_type": "code",
      "execution_count": null,
      "source": [
        "def initialize(dims, option = 'zero'):\r\n",
        "  np.random.seed(5)\r\n",
        "  if(option == 'zero'):                                                #Zero Initialization\r\n",
        "    w = np.zeros((dims,1))\r\n",
        "  elif(option == 'normal'):\r\n",
        "    w = np.random.normal(0.0, 1.0, size= (dims,1))/1.0                 #Gaussian Initialization\r\n",
        "  elif(option == 'he'):\r\n",
        "    w = np.random.normal(0.0, 1.0, size= (dims,1))*np.sqrt(2/dims)     #He Initialization\r\n",
        "  \r\n",
        "  b = 0\r\n",
        "  assert(w.shape == (dims, 1))\r\n",
        "  assert(isinstance(b, float) or isinstance(b, int))\r\n",
        "    \r\n",
        "  return w,b"
      ],
      "outputs": [],
      "metadata": {
        "id": "QiwzjkikGXhY"
      }
    },
    {
      "cell_type": "code",
      "execution_count": null,
      "source": [
        "def plot_hist(history):\r\n",
        "  acc=history.history['accuracy']\r\n",
        "  val_acc=history.history['val_accuracy']\r\n",
        "  loss=history.history['loss']\r\n",
        "  val_loss=history.history['val_loss']\r\n",
        "\r\n",
        "  epochs=range(len(acc)) # Get number of epochs\r\n",
        "\r\n",
        "  #------------------------------------------------\r\n",
        "  # Plot training and validation accuracy per epoch\r\n",
        "  #------------------------------------------------\r\n",
        "  plt.plot(epochs, acc, 'r', label = \"Training Accuracy\")\r\n",
        "  plt.plot(epochs, val_acc, 'b', label = \"Validation Accuracy\")\r\n",
        "  plt.title('Training and validation accuracy')\r\n",
        "  plt.legend()\r\n",
        "  plt.figure()\r\n",
        "\r\n",
        "  #------------------------------------------------\r\n",
        "  # Plot training and validation loss per epoch\r\n",
        "  #------------------------------------------------\r\n",
        "  plt.plot(epochs, loss, 'r', label = \"Training Loss\")\r\n",
        "  plt.plot(epochs, val_loss, 'b', label = \"Validation Loss\")\r\n",
        "  plt.legend()\r\n",
        "\r\n",
        "  plt.title('Training and validation loss')"
      ],
      "outputs": [],
      "metadata": {
        "id": "CPsb9qHJH0a4"
      }
    },
    {
      "cell_type": "markdown",
      "source": [
        "# Defining the logistic classifier class"
      ],
      "metadata": {
        "id": "hXOvQ3FaM9-g"
      }
    },
    {
      "cell_type": "code",
      "execution_count": null,
      "source": [
        "class logistic_classifier:\r\n",
        "\r\n",
        "  def __init__(self, dims, intialization, verbose = False):\r\n",
        "    self.w, self.b = initialize(dims, intialization)\r\n",
        "    self.costs = []\r\n",
        "    self.val_costs = []\r\n",
        "    self.acc = []\r\n",
        "    self.val_acc = []\r\n",
        "    if(intialization == 'zero' and verbose == True):\r\n",
        "      print(\"Weights and Bias initialized based on Zero Initialization with \"+str(dims)+\" features\")\r\n",
        "    if(intialization == 'normal' and verbose == True):\r\n",
        "      print(\"Weights and Bias initialized based on Normal Initialization with \"+str(dims)+\" features\")\r\n",
        "    if(intialization == 'he' and verbose == True):\r\n",
        "      print(\"Weights and Bias initialized based on He Initialization with \"+str(dims)+\" features\")\r\n",
        "\r\n",
        "  def predict_proba(self, X):\r\n",
        "    m = X.shape[1]\r\n",
        "    Y_prediction = np.zeros((1,m))\r\n",
        "    w = self.w.reshape(X.shape[0], 1)\r\n",
        "    b = self.b\r\n",
        "    logits = sigmoid(np.dot(w.T,X)+b)\r\n",
        "    return logits  \r\n",
        "\r\n",
        "  def predict(self, X):\r\n",
        "    logits = self.predict_proba(X)\r\n",
        "    Y_hat = np.zeros(logits.shape)\r\n",
        "    for i in range(logits.shape[1]):\r\n",
        "      if logits[0,i] > 0.5:\r\n",
        "        Y_hat[0,i] = 1\r\n",
        "      else:\r\n",
        "        Y_hat[0,i] = 0\r\n",
        "    return Y_hat\r\n",
        "\r\n",
        "  def evaluate(self, X, y):\r\n",
        "    y_hat = self.predict(X)\r\n",
        "    acc_score = accuracy_score(y,y_hat.T)\r\n",
        "    f1 = f1_score(y, y_hat.T)\r\n",
        "    print('Accuracy on test set: '+str(acc_score*100)+' %')\r\n",
        "    print('F1 score on test set: '+str(f1*100)+' %')\r\n",
        "    print('\\n')\r\n",
        "\r\n",
        "    print('CONFUSION MATRIX\\n')\r\n",
        "    print(confusion_matrix(y, y_hat.T))\r\n",
        "    print('\\n')\r\n",
        "\r\n",
        "    print('CLASSIFICATION REPORT\\n')\r\n",
        "    # target_names = list(class_labels.values())\r\n",
        "    print(classification_report(y, y_hat.T))\r\n",
        "    print('\\n')\r\n",
        "\r\n",
        "  def append_cost(self, cost):\r\n",
        "    self.costs.append(cost)\r\n",
        "\r\n",
        "  def append_val_cost(self, cost):\r\n",
        "    self.val_costs.append(cost)\r\n",
        "\r\n",
        "  def append_acc(self, acc):\r\n",
        "    self.acc.append(acc)\r\n",
        "\r\n",
        "  def append_val_acc(self, acc):\r\n",
        "    self.val_acc.append(acc)\r\n",
        "\r\n",
        "  def fit(self, X_train, Y_train, X_val=[], Y_val=[], num_iterations=10000, learning_rate=1e-3, print_loss = True):      \r\n",
        "    t = trange(num_iterations)\r\n",
        "    for i in t:\r\n",
        "      self.w, self.b, train_cost = do_regression(self.w, self.b, X_train, Y_train, learning_rate=learning_rate)\r\n",
        "      self.append_cost(train_cost)\r\n",
        "      yt_h = self.predict(X_train)\r\n",
        "      acc_score = accuracy_score(Y_train, yt_h.T)\r\n",
        "      self.append_acc(acc_score)\r\n",
        "      if(len(X_val)!=0 and len(Y_val)!=0):\r\n",
        "        m = X_val.shape[1]\r\n",
        "        val_logits = sigmoid(np.dot(self.w.T,X_val)+self.b)\r\n",
        "        val_cost = cost_func(val_logits, Y_val, m)\r\n",
        "        self.append_val_cost(val_cost)\r\n",
        "        yv_h = self.predict(X_val)\r\n",
        "        val_acc_score = accuracy_score(Y_val, yv_h.T)\r\n",
        "        self.append_val_acc(val_acc_score)\r\n",
        "      if(print_loss==True):\r\n",
        "        if(len(X_val)!=0 and len(Y_val)!=0):\r\n",
        "          t.set_postfix(loss=-1*train_cost, accuracy = acc_score, val_loss = -1*val_cost, val_accuracy = val_acc_score)\r\n",
        "        else:\r\n",
        "          t.set_postfix(loss=-1*train_cost, accuracy = acc_score)"
      ],
      "outputs": [],
      "metadata": {
        "id": "5gwukEpL0l5c"
      }
    },
    {
      "cell_type": "markdown",
      "source": [
        "# Logistic Regression Model training and testing"
      ],
      "metadata": {
        "id": "-4EofA2pwPLo"
      }
    },
    {
      "cell_type": "markdown",
      "source": [
        "## Data Preprocessing"
      ],
      "metadata": {
        "id": "filoAnXMwLE4"
      }
    },
    {
      "cell_type": "markdown",
      "source": [
        "### Reading the data from csv"
      ],
      "metadata": {
        "id": "tez--nr8PKYd"
      }
    },
    {
      "cell_type": "code",
      "execution_count": null,
      "source": [
        "df = pd.read_csv('/content/diabetes(1).csv')"
      ],
      "outputs": [],
      "metadata": {
        "id": "QEOhq2m8_s1z"
      }
    },
    {
      "cell_type": "code",
      "execution_count": null,
      "source": [
        "df"
      ],
      "outputs": [
        {
          "output_type": "execute_result",
          "data": {
            "text/html": [
              "<div>\n",
              "<style scoped>\n",
              "    .dataframe tbody tr th:only-of-type {\n",
              "        vertical-align: middle;\n",
              "    }\n",
              "\n",
              "    .dataframe tbody tr th {\n",
              "        vertical-align: top;\n",
              "    }\n",
              "\n",
              "    .dataframe thead th {\n",
              "        text-align: right;\n",
              "    }\n",
              "</style>\n",
              "<table border=\"1\" class=\"dataframe\">\n",
              "  <thead>\n",
              "    <tr style=\"text-align: right;\">\n",
              "      <th></th>\n",
              "      <th>Pregnancies</th>\n",
              "      <th>Glucose</th>\n",
              "      <th>BloodPressure</th>\n",
              "      <th>SkinThickness</th>\n",
              "      <th>Insulin</th>\n",
              "      <th>BMI</th>\n",
              "      <th>DiabetesPedigreeFunction</th>\n",
              "      <th>Age</th>\n",
              "      <th>Outcome</th>\n",
              "    </tr>\n",
              "  </thead>\n",
              "  <tbody>\n",
              "    <tr>\n",
              "      <th>0</th>\n",
              "      <td>6</td>\n",
              "      <td>148</td>\n",
              "      <td>72</td>\n",
              "      <td>35</td>\n",
              "      <td>0</td>\n",
              "      <td>33.6</td>\n",
              "      <td>0.627</td>\n",
              "      <td>50</td>\n",
              "      <td>1</td>\n",
              "    </tr>\n",
              "    <tr>\n",
              "      <th>1</th>\n",
              "      <td>1</td>\n",
              "      <td>85</td>\n",
              "      <td>66</td>\n",
              "      <td>29</td>\n",
              "      <td>0</td>\n",
              "      <td>26.6</td>\n",
              "      <td>0.351</td>\n",
              "      <td>31</td>\n",
              "      <td>0</td>\n",
              "    </tr>\n",
              "    <tr>\n",
              "      <th>2</th>\n",
              "      <td>8</td>\n",
              "      <td>183</td>\n",
              "      <td>64</td>\n",
              "      <td>0</td>\n",
              "      <td>0</td>\n",
              "      <td>23.3</td>\n",
              "      <td>0.672</td>\n",
              "      <td>32</td>\n",
              "      <td>1</td>\n",
              "    </tr>\n",
              "    <tr>\n",
              "      <th>3</th>\n",
              "      <td>1</td>\n",
              "      <td>89</td>\n",
              "      <td>66</td>\n",
              "      <td>23</td>\n",
              "      <td>94</td>\n",
              "      <td>28.1</td>\n",
              "      <td>0.167</td>\n",
              "      <td>21</td>\n",
              "      <td>0</td>\n",
              "    </tr>\n",
              "    <tr>\n",
              "      <th>4</th>\n",
              "      <td>0</td>\n",
              "      <td>137</td>\n",
              "      <td>40</td>\n",
              "      <td>35</td>\n",
              "      <td>168</td>\n",
              "      <td>43.1</td>\n",
              "      <td>2.288</td>\n",
              "      <td>33</td>\n",
              "      <td>1</td>\n",
              "    </tr>\n",
              "    <tr>\n",
              "      <th>...</th>\n",
              "      <td>...</td>\n",
              "      <td>...</td>\n",
              "      <td>...</td>\n",
              "      <td>...</td>\n",
              "      <td>...</td>\n",
              "      <td>...</td>\n",
              "      <td>...</td>\n",
              "      <td>...</td>\n",
              "      <td>...</td>\n",
              "    </tr>\n",
              "    <tr>\n",
              "      <th>763</th>\n",
              "      <td>10</td>\n",
              "      <td>101</td>\n",
              "      <td>76</td>\n",
              "      <td>48</td>\n",
              "      <td>180</td>\n",
              "      <td>32.9</td>\n",
              "      <td>0.171</td>\n",
              "      <td>63</td>\n",
              "      <td>0</td>\n",
              "    </tr>\n",
              "    <tr>\n",
              "      <th>764</th>\n",
              "      <td>2</td>\n",
              "      <td>122</td>\n",
              "      <td>70</td>\n",
              "      <td>27</td>\n",
              "      <td>0</td>\n",
              "      <td>36.8</td>\n",
              "      <td>0.340</td>\n",
              "      <td>27</td>\n",
              "      <td>0</td>\n",
              "    </tr>\n",
              "    <tr>\n",
              "      <th>765</th>\n",
              "      <td>5</td>\n",
              "      <td>121</td>\n",
              "      <td>72</td>\n",
              "      <td>23</td>\n",
              "      <td>112</td>\n",
              "      <td>26.2</td>\n",
              "      <td>0.245</td>\n",
              "      <td>30</td>\n",
              "      <td>0</td>\n",
              "    </tr>\n",
              "    <tr>\n",
              "      <th>766</th>\n",
              "      <td>1</td>\n",
              "      <td>126</td>\n",
              "      <td>60</td>\n",
              "      <td>0</td>\n",
              "      <td>0</td>\n",
              "      <td>30.1</td>\n",
              "      <td>0.349</td>\n",
              "      <td>47</td>\n",
              "      <td>1</td>\n",
              "    </tr>\n",
              "    <tr>\n",
              "      <th>767</th>\n",
              "      <td>1</td>\n",
              "      <td>93</td>\n",
              "      <td>70</td>\n",
              "      <td>31</td>\n",
              "      <td>0</td>\n",
              "      <td>30.4</td>\n",
              "      <td>0.315</td>\n",
              "      <td>23</td>\n",
              "      <td>0</td>\n",
              "    </tr>\n",
              "  </tbody>\n",
              "</table>\n",
              "<p>768 rows × 9 columns</p>\n",
              "</div>"
            ],
            "text/plain": [
              "     Pregnancies  Glucose  ...  Age  Outcome\n",
              "0              6      148  ...   50        1\n",
              "1              1       85  ...   31        0\n",
              "2              8      183  ...   32        1\n",
              "3              1       89  ...   21        0\n",
              "4              0      137  ...   33        1\n",
              "..           ...      ...  ...  ...      ...\n",
              "763           10      101  ...   63        0\n",
              "764            2      122  ...   27        0\n",
              "765            5      121  ...   30        0\n",
              "766            1      126  ...   47        1\n",
              "767            1       93  ...   23        0\n",
              "\n",
              "[768 rows x 9 columns]"
            ]
          },
          "metadata": {},
          "execution_count": 42
        }
      ],
      "metadata": {
        "colab": {
          "base_uri": "https://localhost:8080/",
          "height": 419
        },
        "id": "BPh5W2v4900w",
        "outputId": "933c8f54-5c21-4a0d-d12a-455d170c221b"
      }
    },
    {
      "cell_type": "markdown",
      "source": [
        "### Storing them as X and Y, along with normalizing X"
      ],
      "metadata": {
        "id": "AjjdQdLvPUhL"
      }
    },
    {
      "cell_type": "code",
      "execution_count": null,
      "source": [
        "x_df = df.drop(['Outcome'], axis=1)\r\n",
        "\r\n",
        "x_df = normalize(x_df)"
      ],
      "outputs": [],
      "metadata": {
        "id": "z6Eqo8g7_xFQ"
      }
    },
    {
      "cell_type": "code",
      "execution_count": null,
      "source": [
        "y_df = df['Outcome']"
      ],
      "outputs": [],
      "metadata": {
        "id": "m-Qj2KGX_xuS"
      }
    },
    {
      "cell_type": "markdown",
      "source": [
        "### Splitting into train, validation and test\n",
        "\n",
        "*Train - 60%, Validation - 20%, Test - 20%*"
      ],
      "metadata": {
        "id": "60Ui_86DPbhE"
      }
    },
    {
      "cell_type": "code",
      "execution_count": null,
      "source": [
        "seed = 82"
      ],
      "outputs": [],
      "metadata": {
        "id": "0k0LanQWNPkR"
      }
    },
    {
      "cell_type": "code",
      "execution_count": null,
      "source": [
        "X_train, x1, Y_train, y1 = train_test_split(x_df, y_df, test_size = 0.4, stratify = y_df, random_state = seed)\r\n",
        "X_val, X_test, Y_val, Y_test = train_test_split(x1, y1, test_size = 0.5, stratify = y1, random_state = seed)"
      ],
      "outputs": [],
      "metadata": {
        "id": "yux187QarCNK"
      }
    },
    {
      "cell_type": "markdown",
      "source": [
        "### Converting into numpy arrays"
      ],
      "metadata": {
        "id": "H8Izw1InPnKs"
      }
    },
    {
      "cell_type": "code",
      "execution_count": null,
      "source": [
        "X_train = X_train.values\r\n",
        "Y_train = Y_train.values"
      ],
      "outputs": [],
      "metadata": {
        "id": "259sg2kBAOiN"
      }
    },
    {
      "cell_type": "code",
      "execution_count": null,
      "source": [
        "X_val = X_val.values\r\n",
        "Y_val = Y_val.values"
      ],
      "outputs": [],
      "metadata": {
        "id": "4vVywIqUsO40"
      }
    },
    {
      "cell_type": "code",
      "execution_count": null,
      "source": [
        "X_test = X_test.values\r\n",
        "Y_test = Y_test.values"
      ],
      "outputs": [],
      "metadata": {
        "id": "lX78Ab1zsUjk"
      }
    },
    {
      "cell_type": "markdown",
      "source": [
        "## Grid searching for best hyper-parameters"
      ],
      "metadata": {
        "id": "TlZwvM7inoeT"
      }
    },
    {
      "cell_type": "code",
      "execution_count": null,
      "source": [
        "lr_list = [1e-1, 1e-2, 1e-3, 1e-4]\r\n",
        "epochs_list = [100, 500, 1000, 5000]"
      ],
      "outputs": [],
      "metadata": {
        "id": "7majSSF71SPH"
      }
    },
    {
      "cell_type": "code",
      "execution_count": null,
      "source": [
        "cost_list = []\r\n",
        "val_cost_list = []\r\n",
        "acc_list = []\r\n",
        "val_acc_list = []"
      ],
      "outputs": [],
      "metadata": {
        "id": "hcJ0pae2HnTe"
      }
    },
    {
      "cell_type": "code",
      "execution_count": null,
      "source": [
        "for i in range(4):\r\n",
        "  for j in range(4):\r\n",
        "    print('Training model with learning rate of '+str(lr_list[j])+' for '+str(epochs_list[i])+' epochs:')\r\n",
        "    print('\\n')\r\n",
        "    dia_clf = logistic_classifier(8, 'he')\r\n",
        "    dia_clf.__init__(8, 'he')\r\n",
        "    dia_clf.fit(X_train.T, Y_train.T, X_val.T, Y_val.T, learning_rate=lr_list[j], num_iterations=epochs_list[i])\r\n",
        "    cost_list.append(dia_clf.costs)\r\n",
        "    val_cost_list.append(dia_clf.val_costs)\r\n",
        "    acc_list.append(dia_clf.acc)\r\n",
        "    val_acc_list.append(dia_clf.val_acc)\r\n",
        "    print('\\n')"
      ],
      "outputs": [
        {
          "output_type": "stream",
          "name": "stdout",
          "text": [
            "Training model with learning rate of 0.1 for 100 epochs:\n",
            "\n",
            "\n"
          ]
        },
        {
          "output_type": "stream",
          "name": "stderr",
          "text": [
            "100%|██████████| 100/100 [00:00<00:00, 142.19it/s, accuracy=0.763, loss=-.514, val_accuracy=0.786, val_loss=-.508]\n"
          ]
        },
        {
          "output_type": "stream",
          "name": "stdout",
          "text": [
            "\n",
            "\n",
            "Training model with learning rate of 0.01 for 100 epochs:\n",
            "\n",
            "\n"
          ]
        },
        {
          "output_type": "stream",
          "name": "stderr",
          "text": [
            "100%|██████████| 100/100 [00:00<00:00, 157.64it/s, accuracy=0.563, loss=-.756, val_accuracy=0.623, val_loss=-.798]\n"
          ]
        },
        {
          "output_type": "stream",
          "name": "stdout",
          "text": [
            "\n",
            "\n",
            "Training model with learning rate of 0.001 for 100 epochs:\n",
            "\n",
            "\n"
          ]
        },
        {
          "output_type": "stream",
          "name": "stderr",
          "text": [
            "100%|██████████| 100/100 [00:00<00:00, 149.04it/s, accuracy=0.52, loss=-.851, val_accuracy=0.519, val_loss=-.903]\n"
          ]
        },
        {
          "output_type": "stream",
          "name": "stdout",
          "text": [
            "\n",
            "\n",
            "Training model with learning rate of 0.0001 for 100 epochs:\n",
            "\n",
            "\n"
          ]
        },
        {
          "output_type": "stream",
          "name": "stderr",
          "text": [
            "100%|██████████| 100/100 [00:00<00:00, 165.64it/s, accuracy=0.515, loss=-.862, val_accuracy=0.513, val_loss=-.915]\n"
          ]
        },
        {
          "output_type": "stream",
          "name": "stdout",
          "text": [
            "\n",
            "\n",
            "Training model with learning rate of 0.1 for 500 epochs:\n",
            "\n",
            "\n"
          ]
        },
        {
          "output_type": "stream",
          "name": "stderr",
          "text": [
            "100%|██████████| 500/500 [00:03<00:00, 163.64it/s, accuracy=0.772, loss=-.491, val_accuracy=0.779, val_loss=-.461]\n"
          ]
        },
        {
          "output_type": "stream",
          "name": "stdout",
          "text": [
            "\n",
            "\n",
            "Training model with learning rate of 0.01 for 500 epochs:\n",
            "\n",
            "\n"
          ]
        },
        {
          "output_type": "stream",
          "name": "stderr",
          "text": [
            "100%|██████████| 500/500 [00:02<00:00, 174.11it/s, accuracy=0.702, loss=-.569, val_accuracy=0.747, val_loss=-.586]\n"
          ]
        },
        {
          "output_type": "stream",
          "name": "stdout",
          "text": [
            "\n",
            "\n",
            "Training model with learning rate of 0.001 for 500 epochs:\n",
            "\n",
            "\n"
          ]
        },
        {
          "output_type": "stream",
          "name": "stderr",
          "text": [
            "100%|██████████| 500/500 [00:03<00:00, 162.12it/s, accuracy=0.535, loss=-.804, val_accuracy=0.539, val_loss=-.852]\n"
          ]
        },
        {
          "output_type": "stream",
          "name": "stdout",
          "text": [
            "\n",
            "\n",
            "Training model with learning rate of 0.0001 for 500 epochs:\n",
            "\n",
            "\n"
          ]
        },
        {
          "output_type": "stream",
          "name": "stderr",
          "text": [
            "100%|██████████| 500/500 [00:03<00:00, 158.26it/s, accuracy=0.517, loss=-.857, val_accuracy=0.519, val_loss=-.91]\n"
          ]
        },
        {
          "output_type": "stream",
          "name": "stdout",
          "text": [
            "\n",
            "\n",
            "Training model with learning rate of 0.1 for 1000 epochs:\n",
            "\n",
            "\n"
          ]
        },
        {
          "output_type": "stream",
          "name": "stderr",
          "text": [
            "100%|██████████| 1000/1000 [00:05<00:00, 176.74it/s, accuracy=0.774, loss=-.49, val_accuracy=0.773, val_loss=-.461]\n"
          ]
        },
        {
          "output_type": "stream",
          "name": "stdout",
          "text": [
            "\n",
            "\n",
            "Training model with learning rate of 0.01 for 1000 epochs:\n",
            "\n",
            "\n"
          ]
        },
        {
          "output_type": "stream",
          "name": "stderr",
          "text": [
            "100%|██████████| 1000/1000 [00:06<00:00, 158.79it/s, accuracy=0.763, loss=-.514, val_accuracy=0.786, val_loss=-.508]\n"
          ]
        },
        {
          "output_type": "stream",
          "name": "stdout",
          "text": [
            "\n",
            "\n",
            "Training model with learning rate of 0.001 for 1000 epochs:\n",
            "\n",
            "\n"
          ]
        },
        {
          "output_type": "stream",
          "name": "stderr",
          "text": [
            "100%|██████████| 1000/1000 [00:06<00:00, 166.40it/s, accuracy=0.563, loss=-.755, val_accuracy=0.623, val_loss=-.798]\n"
          ]
        },
        {
          "output_type": "stream",
          "name": "stdout",
          "text": [
            "\n",
            "\n",
            "Training model with learning rate of 0.0001 for 1000 epochs:\n",
            "\n",
            "\n"
          ]
        },
        {
          "output_type": "stream",
          "name": "stderr",
          "text": [
            "100%|██████████| 1000/1000 [00:05<00:00, 166.98it/s, accuracy=0.52, loss=-.851, val_accuracy=0.519, val_loss=-.903]\n"
          ]
        },
        {
          "output_type": "stream",
          "name": "stdout",
          "text": [
            "\n",
            "\n",
            "Training model with learning rate of 0.1 for 5000 epochs:\n",
            "\n",
            "\n"
          ]
        },
        {
          "output_type": "stream",
          "name": "stderr",
          "text": [
            "100%|██████████| 5000/5000 [00:30<00:00, 164.54it/s, accuracy=0.774, loss=-.49, val_accuracy=0.773, val_loss=-.461]\n"
          ]
        },
        {
          "output_type": "stream",
          "name": "stdout",
          "text": [
            "\n",
            "\n",
            "Training model with learning rate of 0.01 for 5000 epochs:\n",
            "\n",
            "\n"
          ]
        },
        {
          "output_type": "stream",
          "name": "stderr",
          "text": [
            "100%|██████████| 5000/5000 [00:32<00:00, 156.16it/s, accuracy=0.772, loss=-.491, val_accuracy=0.779, val_loss=-.461]\n"
          ]
        },
        {
          "output_type": "stream",
          "name": "stdout",
          "text": [
            "\n",
            "\n",
            "Training model with learning rate of 0.001 for 5000 epochs:\n",
            "\n",
            "\n"
          ]
        },
        {
          "output_type": "stream",
          "name": "stderr",
          "text": [
            "100%|██████████| 5000/5000 [00:30<00:00, 163.61it/s, accuracy=0.702, loss=-.569, val_accuracy=0.747, val_loss=-.586]\n"
          ]
        },
        {
          "output_type": "stream",
          "name": "stdout",
          "text": [
            "\n",
            "\n",
            "Training model with learning rate of 0.0001 for 5000 epochs:\n",
            "\n",
            "\n"
          ]
        },
        {
          "output_type": "stream",
          "name": "stderr",
          "text": [
            "100%|██████████| 5000/5000 [00:30<00:00, 161.88it/s, accuracy=0.535, loss=-.804, val_accuracy=0.539, val_loss=-.852]"
          ]
        },
        {
          "output_type": "stream",
          "name": "stdout",
          "text": [
            "\n",
            "\n"
          ]
        },
        {
          "output_type": "stream",
          "name": "stderr",
          "text": [
            "\n"
          ]
        }
      ],
      "metadata": {
        "colab": {
          "base_uri": "https://localhost:8080/"
        },
        "id": "2Ccd6ni2IE_K",
        "outputId": "52d30b3d-e2ff-4817-8746-01c489358191"
      }
    },
    {
      "cell_type": "code",
      "execution_count": null,
      "source": [
        "max_val_acc_list = []\r\n",
        "for i in range(len(val_acc_list)):\r\n",
        "  max_val_acc_list.append([np.argmax(val_acc_list[i]) ,np.max(val_acc_list[i])])\r\n",
        "\r\n",
        "# max_val_acc_list\r\n",
        "\r\n",
        "max_val_acc_list = np.array(max_val_acc_list)\r\n",
        "\r\n",
        "best_param_index = np.argmax(max_val_acc_list[:,1])\r\n",
        "max_val_acc = max_val_acc_list[best_param_index]"
      ],
      "outputs": [],
      "metadata": {
        "id": "QFvfdmMZQXLF"
      }
    },
    {
      "cell_type": "code",
      "execution_count": null,
      "source": [
        "plt.plot(val_cost_list[12], label = '0.1')\r\n",
        "plt.plot(val_cost_list[13], label = '0.01')\r\n",
        "plt.plot(val_cost_list[14], label = '0.001')\r\n",
        "plt.plot(val_cost_list[15], label = '0.0001')\r\n",
        "plt.title('Loss Curve')\r\n",
        "plt.xlabel('Epochs')\r\n",
        "plt.ylabel('Loss')\r\n",
        "plt.legend()\r\n",
        "plt.show()"
      ],
      "outputs": [
        {
          "output_type": "display_data",
          "data": {
            "image/png": "[encoded data removed]",
            "text/plain": [
              "<Figure size 432x288 with 1 Axes>"
            ]
          },
          "metadata": {
            "needs_background": "light"
          }
        }
      ],
      "metadata": {
        "colab": {
          "base_uri": "https://localhost:8080/",
          "height": 295
        },
        "id": "gJtXVnDpR1UV",
        "outputId": "e03e422e-0d95-4523-cee1-67cfff0000e1"
      }
    },
    {
      "cell_type": "code",
      "execution_count": null,
      "source": [
        "plt.plot(val_acc_list[12], label = '0.1')\r\n",
        "plt.plot(val_acc_list[13], label = '0.01')\r\n",
        "plt.plot(val_acc_list[14], label = '0.001')\r\n",
        "plt.plot(val_acc_list[15], label = '0.0001')\r\n",
        "plt.title('Accuracy Curve')\r\n",
        "plt.xlabel('Epochs')\r\n",
        "plt.ylabel('Loss')\r\n",
        "plt.legend()\r\n",
        "plt.show()"
      ],
      "outputs": [
        {
          "output_type": "display_data",
          "data": {
            "image/png": "[encoded data removed]",
            "text/plain": [
              "<Figure size 432x288 with 1 Axes>"
            ]
          },
          "metadata": {
            "needs_background": "light"
          }
        }
      ],
      "metadata": {
        "colab": {
          "base_uri": "https://localhost:8080/",
          "height": 295
        },
        "id": "R7-tew5ETGu7",
        "outputId": "9664628a-a386-4847-a615-1e6439b90a76"
      }
    },
    {
      "cell_type": "code",
      "execution_count": null,
      "source": [
        "best_param_index, max_val_acc"
      ],
      "outputs": [
        {
          "output_type": "execute_result",
          "data": {
            "text/plain": [
              "(4, array([103.        ,   0.79220779]))"
            ]
          },
          "metadata": {},
          "execution_count": 57
        }
      ],
      "metadata": {
        "colab": {
          "base_uri": "https://localhost:8080/"
        },
        "id": "5JbBryiqmYQv",
        "outputId": "97e5e378-baa2-45db-f899-f45edb8dc10d"
      }
    },
    {
      "cell_type": "markdown",
      "source": [
        "So, approximately 104 iterations and learning rate as 0.1"
      ],
      "metadata": {
        "id": "_GxXq9eMnXzw"
      }
    },
    {
      "cell_type": "markdown",
      "source": [
        "## Training the final model and evaluating it on the test set\n",
        "\n",
        "We'll train the final model for 200 epochs and with 0.1 rate of learning."
      ],
      "metadata": {
        "id": "dz_7xJ_dLrpO"
      }
    },
    {
      "cell_type": "code",
      "execution_count": null,
      "source": [
        "# clf_list[3][3].evaluate(X_test.T, Y_test.T)"
      ],
      "outputs": [],
      "metadata": {
        "id": "Jvpxn_5XA6Hu"
      }
    },
    {
      "cell_type": "code",
      "execution_count": null,
      "source": [
        "dia_clf = logistic_classifier(8, 'he')\r\n",
        "dia_clf.fit(X_train.T, Y_train.T, X_val.T, Y_val.T, learning_rate=0.1, num_iterations=200)"
      ],
      "outputs": [
        {
          "output_type": "stream",
          "name": "stderr",
          "text": [
            "100%|██████████| 200/200 [00:01<00:00, 148.34it/s, accuracy=0.783, loss=-.494, val_accuracy=0.779, val_loss=-.47]\n"
          ]
        }
      ],
      "metadata": {
        "colab": {
          "base_uri": "https://localhost:8080/"
        },
        "id": "DKB31F96CDxk",
        "outputId": "fa21e8de-90ee-4c1b-b783-e39f898b02bf"
      }
    },
    {
      "cell_type": "code",
      "execution_count": null,
      "source": [
        "train_costs = np.array(dia_clf.costs)\r\n",
        "val_costs = np.array(dia_clf.val_costs)"
      ],
      "outputs": [],
      "metadata": {
        "id": "lV4C8FdzAnzt"
      }
    },
    {
      "cell_type": "code",
      "execution_count": null,
      "source": [
        "plt.plot(train_costs, color = 'r', label = 'train')\r\n",
        "plt.plot(val_costs, color = 'b', label = 'validation')\r\n",
        "plt.title('Loss Analysis')\r\n",
        "plt.xlabel('epochs')\r\n",
        "plt.ylabel('loss')\r\n",
        "plt.legend()\r\n",
        "plt.show()"
      ],
      "outputs": [
        {
          "output_type": "display_data",
          "data": {
            "image/png": "[encoded data removed]",
            "text/plain": [
              "<Figure size 432x288 with 1 Axes>"
            ]
          },
          "metadata": {
            "needs_background": "light"
          }
        }
      ],
      "metadata": {
        "colab": {
          "base_uri": "https://localhost:8080/",
          "height": 295
        },
        "id": "z2CA7ShNA4bm",
        "outputId": "ab260d2f-c845-47d8-b5c8-4f49240ee559"
      }
    },
    {
      "cell_type": "code",
      "execution_count": null,
      "source": [
        "train_acc = np.array(dia_clf.acc)\r\n",
        "val_acc = np.array(dia_clf.val_acc)"
      ],
      "outputs": [],
      "metadata": {
        "id": "k5dhcI6wvBnV"
      }
    },
    {
      "cell_type": "code",
      "execution_count": null,
      "source": [
        "plt.plot(train_acc, color = 'r', label = 'train')\r\n",
        "plt.plot(val_acc, color = 'b', label = 'validation')\r\n",
        "plt.title('Accuracy Score')\r\n",
        "plt.xlabel('epochs')\r\n",
        "plt.ylabel('accuracy')\r\n",
        "plt.legend()\r\n",
        "plt.show()"
      ],
      "outputs": [
        {
          "output_type": "display_data",
          "data": {
            "image/png": "[encoded data removed]",
            "text/plain": [
              "<Figure size 432x288 with 1 Axes>"
            ]
          },
          "metadata": {
            "needs_background": "light"
          }
        }
      ],
      "metadata": {
        "colab": {
          "base_uri": "https://localhost:8080/",
          "height": 295
        },
        "id": "VZOh2lQbvK5U",
        "outputId": "1ea44ed8-6528-4c9a-9d0e-229951c48af8"
      }
    },
    {
      "cell_type": "code",
      "execution_count": null,
      "source": [
        "dia_clf.evaluate(X_test.T, Y_test.T)"
      ],
      "outputs": [
        {
          "output_type": "stream",
          "name": "stdout",
          "text": [
            "Accuracy on test set: 77.92207792207793 %\n",
            "F1 score on test set: 62.22222222222222 %\n",
            "\n",
            "\n",
            "CONFUSION MATRIX\n",
            "\n",
            "[[92  8]\n",
            " [26 28]]\n",
            "\n",
            "\n",
            "CLASSIFICATION REPORT\n",
            "\n",
            "              precision    recall  f1-score   support\n",
            "\n",
            "           0       0.78      0.92      0.84       100\n",
            "           1       0.78      0.52      0.62        54\n",
            "\n",
            "    accuracy                           0.78       154\n",
            "   macro avg       0.78      0.72      0.73       154\n",
            "weighted avg       0.78      0.78      0.77       154\n",
            "\n",
            "\n",
            "\n"
          ]
        }
      ],
      "metadata": {
        "colab": {
          "base_uri": "https://localhost:8080/"
        },
        "id": "sLzDnDUwMWhx",
        "outputId": "f9abf499-8a06-4f45-d6b3-0e790e0b1b28"
      }
    },
    {
      "cell_type": "markdown",
      "source": [
        "So an accuracy of 77.92% and an f1-score of 76.62%"
      ],
      "metadata": {
        "id": "Kbw50ILbMhEW"
      }
    },
    {
      "cell_type": "markdown",
      "source": [
        "# Neural Network Building"
      ],
      "metadata": {
        "id": "3dgFsJLp1EHq"
      }
    },
    {
      "cell_type": "markdown",
      "source": [
        "Utility function to evaluate the neural network models"
      ],
      "metadata": {
        "id": "J53OJwKj0vpK"
      }
    },
    {
      "cell_type": "code",
      "execution_count": null,
      "source": [
        "def evaluate_model(model, X, Y):\r\n",
        "  y_metrics = model.evaluate(X, Y, verbose = 0)\r\n",
        "  y_pred = model.predict(X, verbose = 0)\r\n",
        "  y_pred[y_pred>=0.5] = 1\r\n",
        "  y_pred[y_pred<0.5] = 0\r\n",
        "  # acc = accuracy_score(Y, y_pred)\r\n",
        "  f1 = f1_score(Y, y_pred)\r\n",
        "  print('Accuracy on test set: '+str(y_metrics[1]*100)+' %')\r\n",
        "  print('F1 score on test set: '+str(f1*100)+' %')\r\n",
        "  print('\\n')\r\n",
        "\r\n",
        "  print('CONFUSION MATRIX\\n')\r\n",
        "  print(confusion_matrix(Y, y_pred))\r\n",
        "  print('\\n')\r\n",
        "\r\n",
        "  print('CLASSIFICATION REPORT\\n')\r\n",
        "  # target_names = list(class_labels.values())\r\n",
        "  print(classification_report(Y, y_pred))\r\n",
        "  print('\\n')"
      ],
      "outputs": [],
      "metadata": {
        "id": "11eywVq_MzSy"
      }
    },
    {
      "cell_type": "markdown",
      "source": [
        "### Defining the base architecture\n",
        "\n",
        "Building models with a simple 2 hidden layer architecture with dense layers and sigmoid/relu activations but with 3 *regularization* techniques, L1, L2, Dropout.\n",
        "\n",
        "![image.png](data:image/png;base64,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)\n",
        "\n"
      ],
      "metadata": {
        "id": "kb0L-btx1ON2"
      }
    },
    {
      "cell_type": "markdown",
      "source": [
        "### Choosing the right activation function\n",
        "\n",
        "I train a base model for 100 epochs on with hidden layers having either ReLU activations and Sigmoid activations"
      ],
      "metadata": {
        "id": "TYNpr4yC08KV"
      }
    },
    {
      "cell_type": "markdown",
      "source": [
        "Defining the Sigmoid and Relu based models"
      ],
      "metadata": {
        "id": "PA8Xa9yN3rJb"
      }
    },
    {
      "cell_type": "code",
      "execution_count": 2,
      "source": [
        "def base_model_sigmoid(input_shape):\r\n",
        "  X_input = Input(shape=input_shape, name = 'Input')\r\n",
        "\r\n",
        "  X = Dense(8, 'sigmoid', name = 'fc_1')(X_input)\r\n",
        "  X = Dense(4, 'sigmoid', name = 'fc_2')(X)\r\n",
        "  out = Dense(1, 'sigmoid', name = 'Output')(X)\r\n",
        "\r\n",
        "  model = Model(X_input, out, name='base_nn_sg')\r\n",
        "\r\n",
        "  return model"
      ],
      "outputs": [],
      "metadata": {
        "id": "txbsz9hs2IUF"
      }
    },
    {
      "cell_type": "code",
      "execution_count": 3,
      "source": [
        "def base_model_relu(input_shape):\r\n",
        "  X_input = Input(shape=input_shape, name = 'Input')\r\n",
        "\r\n",
        "  X = Dense(8, 'relu', name = 'fc_1')(X_input)\r\n",
        "  X = Dense(4, 'relu', name = 'fc_2')(X)\r\n",
        "  out = Dense(1, 'sigmoid', name = 'Output')(X)\r\n",
        "\r\n",
        "  model = Model(X_input, out, name='base_nn_relu')\r\n",
        "\r\n",
        "  return model"
      ],
      "outputs": [],
      "metadata": {
        "id": "LBcqZJjZzysD"
      }
    },
    {
      "cell_type": "code",
      "execution_count": null,
      "source": [
        "base_nn_relu = base_model_relu((8))\r\n",
        "\r\n",
        "base_nn_relu.compile(loss = 'binary_crossentropy', optimizer=tf.keras.optimizers.Adam(0.01), metrics = ['accuracy'])\r\n",
        "\r\n",
        "hist_base_relu = base_nn_relu.fit(x = X_train, y = Y_train, validation_data= (X_val, Y_val), epochs = 100, verbose=0)"
      ],
      "outputs": [],
      "metadata": {
        "id": "B7G2kr6qz8QA"
      }
    },
    {
      "cell_type": "code",
      "execution_count": null,
      "source": [
        "base_nn_sg = base_model_sigmoid((8))\r\n",
        "\r\n",
        "base_nn_sg.compile(loss = 'binary_crossentropy', optimizer=tf.keras.optimizers.Adam(0.01), metrics = ['accuracy'])\r\n",
        "\r\n",
        "hist_base_sigmoid = base_nn_sg.fit(x = X_train, y = Y_train, validation_data= (X_val, Y_val), epochs = 100, verbose=0)"
      ],
      "outputs": [],
      "metadata": {
        "id": "L1Sh06jj2WhD"
      }
    },
    {
      "cell_type": "code",
      "execution_count": null,
      "source": [
        "sg_acc = hist_base_sigmoid.history['val_accuracy']\r\n",
        "relu_acc = hist_base_relu.history['val_accuracy']\r\n",
        "sg_loss = hist_base_sigmoid.history['val_loss']\r\n",
        "relu_loss = hist_base_relu.history['val_loss']\r\n",
        "\r\n",
        "plt.plot(sg_acc, color = 'r', label = 'Sigmoid')\r\n",
        "plt.plot(relu_acc, color = 'b', label = 'ReLU')\r\n",
        "plt.title('Accuracy: Sigmoid vs ReLU')\r\n",
        "plt.xlabel('epochs')\r\n",
        "plt.ylabel('accuracy')\r\n",
        "plt.legend()\r\n",
        "plt.show()\r\n",
        "\r\n"
      ],
      "outputs": [
        {
          "output_type": "display_data",
          "data": {
            "image/png": "[encoded data removed]",
            "text/plain": [
              "<Figure size 432x288 with 1 Axes>"
            ]
          },
          "metadata": {
            "needs_background": "light"
          }
        }
      ],
      "metadata": {
        "colab": {
          "base_uri": "https://localhost:8080/",
          "height": 295
        },
        "id": "vJN2mfUX2lOK",
        "outputId": "ff3e5a59-addf-4d7e-e8bd-0bc959e9c395"
      }
    },
    {
      "cell_type": "markdown",
      "source": [
        "### L1 Regularization\n",
        "\n",
        "All the experimental results are provided in the report. The code below is for the final model training. **Regularization parameter is *0.01*.**"
      ],
      "metadata": {
        "id": "B-UnMDP61YYs"
      }
    },
    {
      "cell_type": "code",
      "execution_count": null,
      "source": [
        "def l1_nn(input_shape):\r\n",
        "  X_input = Input(shape=input_shape)\r\n",
        "\r\n",
        "  reg = tf.keras.regularizers.L1L2(l1=0.01,l2=0)\r\n",
        "\r\n",
        "  X = Dense(8, 'relu', kernel_regularizer=reg, name = 'fc_1')(X_input)\r\n",
        "  X = Dense(4, 'relu', kernel_regularizer=reg, name = 'fc_2')(X)\r\n",
        "  out = Dense(1, 'sigmoid', name = 'Output')(X)\r\n",
        "\r\n",
        "  model = Model(X_input, out, name='l1_nn')\r\n",
        "\r\n",
        "  return model\r\n"
      ],
      "outputs": [],
      "metadata": {
        "id": "HE2GFkzx3Aoc"
      }
    },
    {
      "cell_type": "code",
      "execution_count": null,
      "source": [
        "l1_model = l1_nn((8))"
      ],
      "outputs": [],
      "metadata": {
        "id": "KTX347Du7uQT"
      }
    },
    {
      "cell_type": "code",
      "execution_count": null,
      "source": [
        "l1_model.compile(loss = 'binary_crossentropy', optimizer=tf.keras.optimizers.Adam(0.01), metrics = ['accuracy'])"
      ],
      "outputs": [],
      "metadata": {
        "id": "RzOz4fbkPqHW"
      }
    },
    {
      "cell_type": "code",
      "execution_count": null,
      "source": [
        "my_callbacks = [\r\n",
        "    tf.keras.callbacks.ModelCheckpoint(filepath='./l1_model/weights/model_l1.{epoch:02d}-{val_loss:.2f}.h5'),\r\n",
        "    tf.keras.callbacks.TensorBoard(log_dir='./l1_model/logs'),\r\n",
        "    tf.keras.callbacks.EarlyStopping(monitor='loss', patience=20),\r\n",
        "    tf.keras.callbacks.ReduceLROnPlateau()\r\n",
        "]"
      ],
      "outputs": [],
      "metadata": {
        "id": "SF9d0y9M_vF-"
      }
    },
    {
      "cell_type": "code",
      "execution_count": null,
      "source": [
        "hist_l1 = l1_model.fit(x = X_train, y = Y_train, validation_data= (X_val, Y_val), epochs = 5000, verbose='auto', callbacks=my_callbacks)"
      ],
      "outputs": [
        {
          "output_type": "stream",
          "name": "stdout",
          "text": [
            "Epoch 1/5000\n",
            "15/15 [==============================] - 1s 20ms/step - loss: 0.9870 - accuracy: 0.4826 - val_loss: 0.8439 - val_accuracy: 0.7143\n",
            "Epoch 2/5000\n",
            "15/15 [==============================] - 0s 3ms/step - loss: 0.8072 - accuracy: 0.6543 - val_loss: 0.7550 - val_accuracy: 0.6818\n",
            "Epoch 3/5000\n",
            "15/15 [==============================] - 0s 3ms/step - loss: 0.7305 - accuracy: 0.6609 - val_loss: 0.6868 - val_accuracy: 0.7078\n",
            "Epoch 4/5000\n",
            "15/15 [==============================] - 0s 4ms/step - loss: 0.6793 - accuracy: 0.6739 - val_loss: 0.6345 - val_accuracy: 0.7208\n",
            "Epoch 5/5000\n",
            "15/15 [==============================] - 0s 4ms/step - loss: 0.6327 - accuracy: 0.7022 - val_loss: 0.5882 - val_accuracy: 0.7792\n",
            "Epoch 6/5000\n",
            "15/15 [==============================] - 0s 5ms/step - loss: 0.5974 - accuracy: 0.7652 - val_loss: 0.5661 - val_accuracy: 0.7922\n",
            "Epoch 7/5000\n",
            "15/15 [==============================] - 0s 5ms/step - loss: 0.5746 - accuracy: 0.7609 - val_loss: 0.5529 - val_accuracy: 0.7922\n",
            "Epoch 8/5000\n",
            "15/15 [==============================] - 0s 5ms/step - loss: 0.5599 - accuracy: 0.7674 - val_loss: 0.5412 - val_accuracy: 0.7922\n",
            "Epoch 9/5000\n",
            "15/15 [==============================] - 0s 3ms/step - loss: 0.5523 - accuracy: 0.7717 - val_loss: 0.5264 - val_accuracy: 0.7987\n",
            "Epoch 10/5000\n",
            "15/15 [==============================] - 0s 5ms/step - loss: 0.5492 - accuracy: 0.7761 - val_loss: 0.5219 - val_accuracy: 0.7922\n",
            "Epoch 11/5000\n",
            "15/15 [==============================] - 0s 4ms/step - loss: 0.5445 - accuracy: 0.7761 - val_loss: 0.5178 - val_accuracy: 0.7857\n",
            "Epoch 12/5000\n",
            "15/15 [==============================] - 0s 4ms/step - loss: 0.5420 - accuracy: 0.7761 - val_loss: 0.5206 - val_accuracy: 0.7922\n",
            "Epoch 13/5000\n",
            "15/15 [==============================] - 0s 4ms/step - loss: 0.5382 - accuracy: 0.7848 - val_loss: 0.5157 - val_accuracy: 0.7792\n",
            "Epoch 14/5000\n",
            "15/15 [==============================] - 0s 5ms/step - loss: 0.5341 - accuracy: 0.7826 - val_loss: 0.5188 - val_accuracy: 0.7922\n",
            "Epoch 15/5000\n",
            "15/15 [==============================] - 0s 4ms/step - loss: 0.5317 - accuracy: 0.7826 - val_loss: 0.5146 - val_accuracy: 0.7922\n",
            "Epoch 16/5000\n",
            "15/15 [==============================] - 0s 4ms/step - loss: 0.5360 - accuracy: 0.7717 - val_loss: 0.5213 - val_accuracy: 0.7857\n",
            "Epoch 17/5000\n",
            "15/15 [==============================] - 0s 4ms/step - loss: 0.5321 - accuracy: 0.7783 - val_loss: 0.5088 - val_accuracy: 0.7792\n",
            "Epoch 18/5000\n",
            "15/15 [==============================] - 0s 4ms/step - loss: 0.5270 - accuracy: 0.7804 - val_loss: 0.5192 - val_accuracy: 0.7857\n",
            "Epoch 19/5000\n",
            "15/15 [==============================] - 0s 3ms/step - loss: 0.5282 - accuracy: 0.7696 - val_loss: 0.5214 - val_accuracy: 0.7857\n",
            "Epoch 20/5000\n",
            "15/15 [==============================] - 0s 3ms/step - loss: 0.5265 - accuracy: 0.7848 - val_loss: 0.5208 - val_accuracy: 0.7857\n",
            "Epoch 21/5000\n",
            "15/15 [==============================] - 0s 4ms/step - loss: 0.5233 - accuracy: 0.7804 - val_loss: 0.5107 - val_accuracy: 0.7922\n",
            "Epoch 22/5000\n",
            "15/15 [==============================] - 0s 4ms/step - loss: 0.5246 - accuracy: 0.7826 - val_loss: 0.5127 - val_accuracy: 0.7922\n",
            "Epoch 23/5000\n",
            "15/15 [==============================] - 0s 5ms/step - loss: 0.5233 - accuracy: 0.7761 - val_loss: 0.5140 - val_accuracy: 0.7857\n",
            "Epoch 24/5000\n",
            "15/15 [==============================] - 0s 3ms/step - loss: 0.5211 - accuracy: 0.7848 - val_loss: 0.5146 - val_accuracy: 0.7792\n",
            "Epoch 25/5000\n",
            "15/15 [==============================] - 0s 4ms/step - loss: 0.5276 - accuracy: 0.7826 - val_loss: 0.5127 - val_accuracy: 0.7857\n",
            "Epoch 26/5000\n",
            "15/15 [==============================] - 0s 4ms/step - loss: 0.5216 - accuracy: 0.7739 - val_loss: 0.5093 - val_accuracy: 0.7922\n",
            "Epoch 27/5000\n",
            "15/15 [==============================] - 0s 4ms/step - loss: 0.5213 - accuracy: 0.7783 - val_loss: 0.5122 - val_accuracy: 0.7792\n",
            "Epoch 28/5000\n",
            "15/15 [==============================] - 0s 4ms/step - loss: 0.5181 - accuracy: 0.7848 - val_loss: 0.5124 - val_accuracy: 0.7857\n",
            "Epoch 29/5000\n",
            "15/15 [==============================] - 0s 5ms/step - loss: 0.5175 - accuracy: 0.7826 - val_loss: 0.5120 - val_accuracy: 0.7792\n",
            "Epoch 30/5000\n",
            "15/15 [==============================] - 0s 3ms/step - loss: 0.5168 - accuracy: 0.7848 - val_loss: 0.5111 - val_accuracy: 0.7792\n",
            "Epoch 31/5000\n",
            "15/15 [==============================] - 0s 3ms/step - loss: 0.5166 - accuracy: 0.7891 - val_loss: 0.5102 - val_accuracy: 0.7727\n",
            "Epoch 32/5000\n",
            "15/15 [==============================] - 0s 5ms/step - loss: 0.5166 - accuracy: 0.7870 - val_loss: 0.5101 - val_accuracy: 0.7792\n",
            "Epoch 33/5000\n",
            "15/15 [==============================] - 0s 5ms/step - loss: 0.5161 - accuracy: 0.7870 - val_loss: 0.5102 - val_accuracy: 0.7792\n",
            "Epoch 34/5000\n",
            "15/15 [==============================] - 0s 4ms/step - loss: 0.5165 - accuracy: 0.7870 - val_loss: 0.5101 - val_accuracy: 0.7857\n",
            "Epoch 35/5000\n",
            "15/15 [==============================] - 0s 5ms/step - loss: 0.5170 - accuracy: 0.7848 - val_loss: 0.5104 - val_accuracy: 0.7792\n",
            "Epoch 36/5000\n",
            "15/15 [==============================] - 0s 5ms/step - loss: 0.5162 - accuracy: 0.7891 - val_loss: 0.5104 - val_accuracy: 0.7792\n",
            "Epoch 37/5000\n",
            "15/15 [==============================] - 0s 5ms/step - loss: 0.5160 - accuracy: 0.7913 - val_loss: 0.5103 - val_accuracy: 0.7857\n",
            "Epoch 38/5000\n",
            "15/15 [==============================] - 0s 5ms/step - loss: 0.5157 - accuracy: 0.7913 - val_loss: 0.5103 - val_accuracy: 0.7857\n",
            "Epoch 39/5000\n",
            "15/15 [==============================] - 0s 4ms/step - loss: 0.5157 - accuracy: 0.7891 - val_loss: 0.5102 - val_accuracy: 0.7857\n",
            "Epoch 40/5000\n",
            "15/15 [==============================] - 0s 5ms/step - loss: 0.5156 - accuracy: 0.7870 - val_loss: 0.5101 - val_accuracy: 0.7857\n",
            "Epoch 41/5000\n",
            "15/15 [==============================] - 0s 4ms/step - loss: 0.5156 - accuracy: 0.7870 - val_loss: 0.5100 - val_accuracy: 0.7857\n",
            "Epoch 42/5000\n",
            "15/15 [==============================] - 0s 4ms/step - loss: 0.5156 - accuracy: 0.7848 - val_loss: 0.5101 - val_accuracy: 0.7857\n",
            "Epoch 43/5000\n",
            "15/15 [==============================] - 0s 4ms/step - loss: 0.5156 - accuracy: 0.7913 - val_loss: 0.5101 - val_accuracy: 0.7857\n",
            "Epoch 44/5000\n",
            "15/15 [==============================] - 0s 3ms/step - loss: 0.5156 - accuracy: 0.7891 - val_loss: 0.5101 - val_accuracy: 0.7857\n",
            "Epoch 45/5000\n",
            "15/15 [==============================] - 0s 3ms/step - loss: 0.5156 - accuracy: 0.7891 - val_loss: 0.5101 - val_accuracy: 0.7857\n",
            "Epoch 46/5000\n",
            "15/15 [==============================] - 0s 4ms/step - loss: 0.5156 - accuracy: 0.7891 - val_loss: 0.5101 - val_accuracy: 0.7792\n",
            "Epoch 47/5000\n",
            "15/15 [==============================] - 0s 3ms/step - loss: 0.5156 - accuracy: 0.7891 - val_loss: 0.5101 - val_accuracy: 0.7857\n",
            "Epoch 48/5000\n",
            "15/15 [==============================] - 0s 4ms/step - loss: 0.5155 - accuracy: 0.7891 - val_loss: 0.5101 - val_accuracy: 0.7857\n",
            "Epoch 49/5000\n",
            "15/15 [==============================] - 0s 4ms/step - loss: 0.5155 - accuracy: 0.7891 - val_loss: 0.5101 - val_accuracy: 0.7857\n",
            "Epoch 50/5000\n",
            "15/15 [==============================] - 0s 5ms/step - loss: 0.5155 - accuracy: 0.7891 - val_loss: 0.5101 - val_accuracy: 0.7857\n",
            "Epoch 51/5000\n",
            "15/15 [==============================] - 0s 4ms/step - loss: 0.5155 - accuracy: 0.7891 - val_loss: 0.5101 - val_accuracy: 0.7857\n",
            "Epoch 52/5000\n",
            "15/15 [==============================] - 0s 4ms/step - loss: 0.5155 - accuracy: 0.7891 - val_loss: 0.5101 - val_accuracy: 0.7857\n",
            "Epoch 53/5000\n",
            "15/15 [==============================] - 0s 5ms/step - loss: 0.5155 - accuracy: 0.7891 - val_loss: 0.5101 - val_accuracy: 0.7857\n",
            "Epoch 54/5000\n",
            "15/15 [==============================] - 0s 4ms/step - loss: 0.5155 - accuracy: 0.7891 - val_loss: 0.5101 - val_accuracy: 0.7857\n",
            "Epoch 55/5000\n",
            "15/15 [==============================] - 0s 5ms/step - loss: 0.5155 - accuracy: 0.7891 - val_loss: 0.5101 - val_accuracy: 0.7857\n",
            "Epoch 56/5000\n",
            "15/15 [==============================] - 0s 4ms/step - loss: 0.5155 - accuracy: 0.7891 - val_loss: 0.5100 - val_accuracy: 0.7857\n",
            "Epoch 57/5000\n",
            "15/15 [==============================] - 0s 3ms/step - loss: 0.5155 - accuracy: 0.7891 - val_loss: 0.5101 - val_accuracy: 0.7857\n",
            "Epoch 58/5000\n",
            "15/15 [==============================] - 0s 4ms/step - loss: 0.5155 - accuracy: 0.7891 - val_loss: 0.5101 - val_accuracy: 0.7857\n",
            "Epoch 59/5000\n",
            "15/15 [==============================] - 0s 5ms/step - loss: 0.5155 - accuracy: 0.7891 - val_loss: 0.5101 - val_accuracy: 0.7857\n",
            "Epoch 60/5000\n",
            "15/15 [==============================] - 0s 5ms/step - loss: 0.5155 - accuracy: 0.7891 - val_loss: 0.5101 - val_accuracy: 0.7857\n",
            "Epoch 61/5000\n",
            "15/15 [==============================] - 0s 5ms/step - loss: 0.5155 - accuracy: 0.7891 - val_loss: 0.5101 - val_accuracy: 0.7857\n",
            "Epoch 62/5000\n",
            "15/15 [==============================] - 0s 5ms/step - loss: 0.5155 - accuracy: 0.7891 - val_loss: 0.5101 - val_accuracy: 0.7857\n",
            "Epoch 63/5000\n",
            "15/15 [==============================] - 0s 5ms/step - loss: 0.5155 - accuracy: 0.7891 - val_loss: 0.5101 - val_accuracy: 0.7857\n",
            "Epoch 64/5000\n",
            "15/15 [==============================] - 0s 4ms/step - loss: 0.5155 - accuracy: 0.7891 - val_loss: 0.5101 - val_accuracy: 0.7857\n",
            "Epoch 65/5000\n",
            "15/15 [==============================] - 0s 4ms/step - loss: 0.5155 - accuracy: 0.7891 - val_loss: 0.5101 - val_accuracy: 0.7857\n",
            "Epoch 66/5000\n",
            "15/15 [==============================] - 0s 4ms/step - loss: 0.5155 - accuracy: 0.7891 - val_loss: 0.5101 - val_accuracy: 0.7857\n",
            "Epoch 67/5000\n",
            "15/15 [==============================] - 0s 5ms/step - loss: 0.5155 - accuracy: 0.7891 - val_loss: 0.5101 - val_accuracy: 0.7857\n",
            "Epoch 68/5000\n",
            "15/15 [==============================] - 0s 4ms/step - loss: 0.5155 - accuracy: 0.7891 - val_loss: 0.5101 - val_accuracy: 0.7857\n",
            "Epoch 69/5000\n",
            "15/15 [==============================] - 0s 4ms/step - loss: 0.5155 - accuracy: 0.7891 - val_loss: 0.5101 - val_accuracy: 0.7857\n",
            "Epoch 70/5000\n",
            "15/15 [==============================] - 0s 4ms/step - loss: 0.5155 - accuracy: 0.7891 - val_loss: 0.5101 - val_accuracy: 0.7857\n",
            "Epoch 71/5000\n",
            "15/15 [==============================] - 0s 4ms/step - loss: 0.5155 - accuracy: 0.7891 - val_loss: 0.5101 - val_accuracy: 0.7857\n",
            "Epoch 72/5000\n",
            "15/15 [==============================] - 0s 5ms/step - loss: 0.5155 - accuracy: 0.7891 - val_loss: 0.5101 - val_accuracy: 0.7857\n",
            "Epoch 73/5000\n",
            "15/15 [==============================] - 0s 5ms/step - loss: 0.5155 - accuracy: 0.7891 - val_loss: 0.5101 - val_accuracy: 0.7857\n",
            "Epoch 74/5000\n",
            "15/15 [==============================] - 0s 5ms/step - loss: 0.5155 - accuracy: 0.7891 - val_loss: 0.5101 - val_accuracy: 0.7857\n",
            "Epoch 75/5000\n",
            "15/15 [==============================] - 0s 4ms/step - loss: 0.5155 - accuracy: 0.7891 - val_loss: 0.5101 - val_accuracy: 0.7857\n",
            "Epoch 76/5000\n",
            "15/15 [==============================] - 0s 4ms/step - loss: 0.5155 - accuracy: 0.7891 - val_loss: 0.5101 - val_accuracy: 0.7857\n",
            "Epoch 77/5000\n",
            "15/15 [==============================] - 0s 5ms/step - loss: 0.5155 - accuracy: 0.7891 - val_loss: 0.5101 - val_accuracy: 0.7857\n",
            "Epoch 78/5000\n",
            "15/15 [==============================] - 0s 4ms/step - loss: 0.5155 - accuracy: 0.7891 - val_loss: 0.5101 - val_accuracy: 0.7857\n",
            "Epoch 79/5000\n",
            "15/15 [==============================] - 0s 4ms/step - loss: 0.5155 - accuracy: 0.7891 - val_loss: 0.5101 - val_accuracy: 0.7857\n",
            "Epoch 80/5000\n",
            "15/15 [==============================] - 0s 5ms/step - loss: 0.5155 - accuracy: 0.7891 - val_loss: 0.5101 - val_accuracy: 0.7857\n",
            "Epoch 81/5000\n",
            "15/15 [==============================] - 0s 5ms/step - loss: 0.5155 - accuracy: 0.7891 - val_loss: 0.5101 - val_accuracy: 0.7857\n",
            "Epoch 82/5000\n",
            "15/15 [==============================] - 0s 5ms/step - loss: 0.5155 - accuracy: 0.7891 - val_loss: 0.5101 - val_accuracy: 0.7857\n",
            "Epoch 83/5000\n",
            "15/15 [==============================] - 0s 4ms/step - loss: 0.5155 - accuracy: 0.7891 - val_loss: 0.5101 - val_accuracy: 0.7857\n",
            "Epoch 84/5000\n",
            "15/15 [==============================] - 0s 4ms/step - loss: 0.5155 - accuracy: 0.7891 - val_loss: 0.5101 - val_accuracy: 0.7857\n",
            "Epoch 85/5000\n",
            "15/15 [==============================] - 0s 5ms/step - loss: 0.5155 - accuracy: 0.7891 - val_loss: 0.5101 - val_accuracy: 0.7857\n",
            "Epoch 86/5000\n",
            "15/15 [==============================] - 0s 3ms/step - loss: 0.5155 - accuracy: 0.7891 - val_loss: 0.5101 - val_accuracy: 0.7857\n",
            "Epoch 87/5000\n",
            "15/15 [==============================] - 0s 3ms/step - loss: 0.5155 - accuracy: 0.7891 - val_loss: 0.5101 - val_accuracy: 0.7857\n",
            "Epoch 88/5000\n",
            "15/15 [==============================] - 0s 5ms/step - loss: 0.5155 - accuracy: 0.7891 - val_loss: 0.5101 - val_accuracy: 0.7857\n",
            "Epoch 89/5000\n",
            "15/15 [==============================] - 0s 4ms/step - loss: 0.5155 - accuracy: 0.7891 - val_loss: 0.5101 - val_accuracy: 0.7857\n",
            "Epoch 90/5000\n",
            "15/15 [==============================] - 0s 3ms/step - loss: 0.5155 - accuracy: 0.7891 - val_loss: 0.5101 - val_accuracy: 0.7857\n",
            "Epoch 91/5000\n",
            "15/15 [==============================] - 0s 4ms/step - loss: 0.5155 - accuracy: 0.7891 - val_loss: 0.5101 - val_accuracy: 0.7857\n",
            "Epoch 92/5000\n",
            "15/15 [==============================] - 0s 4ms/step - loss: 0.5155 - accuracy: 0.7891 - val_loss: 0.5101 - val_accuracy: 0.7857\n",
            "Epoch 93/5000\n",
            "15/15 [==============================] - 0s 4ms/step - loss: 0.5155 - accuracy: 0.7891 - val_loss: 0.5101 - val_accuracy: 0.7857\n",
            "Epoch 94/5000\n",
            "15/15 [==============================] - 0s 4ms/step - loss: 0.5155 - accuracy: 0.7891 - val_loss: 0.5101 - val_accuracy: 0.7857\n",
            "Epoch 95/5000\n",
            "15/15 [==============================] - 0s 4ms/step - loss: 0.5155 - accuracy: 0.7891 - val_loss: 0.5101 - val_accuracy: 0.7857\n",
            "Epoch 96/5000\n",
            "15/15 [==============================] - 0s 4ms/step - loss: 0.5155 - accuracy: 0.7891 - val_loss: 0.5101 - val_accuracy: 0.7857\n",
            "Epoch 97/5000\n",
            "15/15 [==============================] - 0s 5ms/step - loss: 0.5155 - accuracy: 0.7891 - val_loss: 0.5101 - val_accuracy: 0.7857\n",
            "Epoch 98/5000\n",
            "15/15 [==============================] - 0s 4ms/step - loss: 0.5155 - accuracy: 0.7891 - val_loss: 0.5101 - val_accuracy: 0.7857\n",
            "Epoch 99/5000\n",
            "15/15 [==============================] - 0s 5ms/step - loss: 0.5155 - accuracy: 0.7891 - val_loss: 0.5101 - val_accuracy: 0.7857\n",
            "Epoch 100/5000\n",
            "15/15 [==============================] - 0s 4ms/step - loss: 0.5155 - accuracy: 0.7891 - val_loss: 0.5101 - val_accuracy: 0.7857\n",
            "Epoch 101/5000\n",
            "15/15 [==============================] - 0s 3ms/step - loss: 0.5155 - accuracy: 0.7891 - val_loss: 0.5101 - val_accuracy: 0.7857\n",
            "Epoch 102/5000\n",
            "15/15 [==============================] - 0s 4ms/step - loss: 0.5155 - accuracy: 0.7891 - val_loss: 0.5101 - val_accuracy: 0.7857\n",
            "Epoch 103/5000\n",
            "15/15 [==============================] - 0s 5ms/step - loss: 0.5155 - accuracy: 0.7891 - val_loss: 0.5101 - val_accuracy: 0.7857\n",
            "Epoch 104/5000\n",
            "15/15 [==============================] - 0s 4ms/step - loss: 0.5155 - accuracy: 0.7891 - val_loss: 0.5101 - val_accuracy: 0.7857\n",
            "Epoch 105/5000\n",
            "15/15 [==============================] - 0s 4ms/step - loss: 0.5155 - accuracy: 0.7891 - val_loss: 0.5101 - val_accuracy: 0.7857\n"
          ]
        }
      ],
      "metadata": {
        "colab": {
          "base_uri": "https://localhost:8080/"
        },
        "id": "WXqZCOTK87Hd",
        "outputId": "1048f763-a31c-4ec2-ba4b-72c3ace40c78"
      }
    },
    {
      "cell_type": "code",
      "execution_count": null,
      "source": [
        "plot_hist(hist_l1)"
      ],
      "outputs": [
        {
          "output_type": "display_data",
          "data": {
            "image/png": "[encoded data removed]",
            "text/plain": [
              "<Figure size 432x288 with 1 Axes>"
            ]
          },
          "metadata": {
            "needs_background": "light"
          }
        },
        {
          "output_type": "display_data",
          "data": {
            "image/png": "[encoded data removed]",
            "text/plain": [
              "<Figure size 432x288 with 1 Axes>"
            ]
          },
          "metadata": {
            "needs_background": "light"
          }
        }
      ],
      "metadata": {
        "colab": {
          "base_uri": "https://localhost:8080/",
          "height": 545
        },
        "id": "lOZPXY8RH_vo",
        "outputId": "07c07401-f383-4fd3-8d7e-f1379f19426d"
      }
    },
    {
      "cell_type": "code",
      "execution_count": null,
      "source": [
        "# l1_model.load_weights('/content/l1_model/weights/model_l1.08-0.58.h5')"
      ],
      "outputs": [],
      "metadata": {
        "id": "-q-jJFyh5hG2"
      }
    },
    {
      "cell_type": "code",
      "execution_count": null,
      "source": [
        "evaluate_model(l1_model, X_test, Y_test)"
      ],
      "outputs": [
        {
          "output_type": "stream",
          "name": "stdout",
          "text": [
            "Accuracy on test set: 76.6233742237091 %\n",
            "F1 score on test set: 63.26530612244898 %\n",
            "\n",
            "\n",
            "CONFUSION MATRIX\n",
            "\n",
            "[[87 13]\n",
            " [23 31]]\n",
            "\n",
            "\n",
            "CLASSIFICATION REPORT\n",
            "\n",
            "              precision    recall  f1-score   support\n",
            "\n",
            "           0       0.79      0.87      0.83       100\n",
            "           1       0.70      0.57      0.63        54\n",
            "\n",
            "    accuracy                           0.77       154\n",
            "   macro avg       0.75      0.72      0.73       154\n",
            "weighted avg       0.76      0.77      0.76       154\n",
            "\n",
            "\n",
            "\n"
          ]
        }
      ],
      "metadata": {
        "colab": {
          "base_uri": "https://localhost:8080/"
        },
        "id": "aZO7yCz1MfBU",
        "outputId": "3623f35d-906e-4d79-ac2a-ead39cd51843"
      }
    },
    {
      "cell_type": "markdown",
      "source": [
        "### L2 Regularization\n",
        "\n",
        "All the experimental results are provided in the report. The code below is for the final model training. **Regularization parameter is *0.01*.**"
      ],
      "metadata": {
        "id": "1Bfxrw2pAoWB"
      }
    },
    {
      "cell_type": "code",
      "execution_count": null,
      "source": [
        "def l2_nn(input_shape):\r\n",
        "  X_input = Input(shape=input_shape)\r\n",
        "\r\n",
        "  # reg = tf.keras.regularizers.L1L2(l1=0,l2=0.01)\r\n",
        "\r\n",
        "  X = Dense(8, 'relu', kernel_regularizer='l2', name = 'fc_1')(X_input)\r\n",
        "  X = Dense(4, 'relu', kernel_regularizer='l2', name = 'fc_2')(X)\r\n",
        "  out = Dense(1, 'sigmoid')(X)\r\n",
        "\r\n",
        "  model = Model(X_input, out, name='l2_nn')\r\n",
        "\r\n",
        "  return model"
      ],
      "outputs": [],
      "metadata": {
        "id": "Da8wW-fy9N4d"
      }
    },
    {
      "cell_type": "code",
      "execution_count": null,
      "source": [
        "l2_model = l2_nn((8))"
      ],
      "outputs": [],
      "metadata": {
        "id": "P1VbdX4_CD-S"
      }
    },
    {
      "cell_type": "code",
      "execution_count": null,
      "source": [
        "l2_model.compile(loss = 'binary_crossentropy', optimizer=tf.keras.optimizers.Adam(0.01), metrics = ['accuracy'])"
      ],
      "outputs": [],
      "metadata": {
        "id": "pPoT1HLsRUn-"
      }
    },
    {
      "cell_type": "code",
      "execution_count": null,
      "source": [
        "my_callbacks = [\r\n",
        "    tf.keras.callbacks.ModelCheckpoint(filepath='./l2_model/weights/model_l2.{epoch:02d}-{val_loss:.2f}.h5'),\r\n",
        "    tf.keras.callbacks.TensorBoard(log_dir='./l2_model/logs'),\r\n",
        "    tf.keras.callbacks.EarlyStopping(monitor='loss', patience=20),\r\n",
        "    tf.keras.callbacks.ReduceLROnPlateau()\r\n",
        "]"
      ],
      "outputs": [],
      "metadata": {
        "id": "T9_eJZqPCFYb"
      }
    },
    {
      "cell_type": "code",
      "execution_count": null,
      "source": [
        "hist_l2 = l2_model.fit(x = X_train, y = Y_train, validation_data= (X_val, Y_val), epochs = 5000, verbose=1, callbacks=my_callbacks)"
      ],
      "outputs": [
        {
          "output_type": "stream",
          "name": "stdout",
          "text": [
            "Epoch 1/5000\n",
            "15/15 [==============================] - 1s 20ms/step - loss: 0.9345 - accuracy: 0.4804 - val_loss: 0.7703 - val_accuracy: 0.6234\n",
            "Epoch 2/5000\n",
            "15/15 [==============================] - 0s 5ms/step - loss: 0.7387 - accuracy: 0.6283 - val_loss: 0.6738 - val_accuracy: 0.7013\n",
            "Epoch 3/5000\n",
            "15/15 [==============================] - 0s 4ms/step - loss: 0.6574 - accuracy: 0.6652 - val_loss: 0.6179 - val_accuracy: 0.7078\n",
            "Epoch 4/5000\n",
            "15/15 [==============================] - 0s 4ms/step - loss: 0.6084 - accuracy: 0.7065 - val_loss: 0.5862 - val_accuracy: 0.7338\n",
            "Epoch 5/5000\n",
            "15/15 [==============================] - 0s 4ms/step - loss: 0.5758 - accuracy: 0.7609 - val_loss: 0.5563 - val_accuracy: 0.7727\n",
            "Epoch 6/5000\n",
            "15/15 [==============================] - 0s 5ms/step - loss: 0.5529 - accuracy: 0.7674 - val_loss: 0.5488 - val_accuracy: 0.7922\n",
            "Epoch 7/5000\n",
            "15/15 [==============================] - 0s 4ms/step - loss: 0.5364 - accuracy: 0.7804 - val_loss: 0.5233 - val_accuracy: 0.7922\n",
            "Epoch 8/5000\n",
            "15/15 [==============================] - 0s 5ms/step - loss: 0.5295 - accuracy: 0.7870 - val_loss: 0.5126 - val_accuracy: 0.7857\n",
            "Epoch 9/5000\n",
            "15/15 [==============================] - 0s 6ms/step - loss: 0.5241 - accuracy: 0.7891 - val_loss: 0.5122 - val_accuracy: 0.7987\n",
            "Epoch 10/5000\n",
            "15/15 [==============================] - 0s 5ms/step - loss: 0.5173 - accuracy: 0.7783 - val_loss: 0.4947 - val_accuracy: 0.8182\n",
            "Epoch 11/5000\n",
            "15/15 [==============================] - 0s 4ms/step - loss: 0.5146 - accuracy: 0.7804 - val_loss: 0.4973 - val_accuracy: 0.8182\n",
            "Epoch 12/5000\n",
            "15/15 [==============================] - 0s 4ms/step - loss: 0.5116 - accuracy: 0.7891 - val_loss: 0.4977 - val_accuracy: 0.8117\n",
            "Epoch 13/5000\n",
            "15/15 [==============================] - 0s 4ms/step - loss: 0.5112 - accuracy: 0.7891 - val_loss: 0.4898 - val_accuracy: 0.8052\n",
            "Epoch 14/5000\n",
            "15/15 [==============================] - 0s 3ms/step - loss: 0.5068 - accuracy: 0.7804 - val_loss: 0.4943 - val_accuracy: 0.8052\n",
            "Epoch 15/5000\n",
            "15/15 [==============================] - 0s 4ms/step - loss: 0.5065 - accuracy: 0.7848 - val_loss: 0.4894 - val_accuracy: 0.8052\n",
            "Epoch 16/5000\n",
            "15/15 [==============================] - 0s 4ms/step - loss: 0.5039 - accuracy: 0.7870 - val_loss: 0.4866 - val_accuracy: 0.8182\n",
            "Epoch 17/5000\n",
            "15/15 [==============================] - 0s 5ms/step - loss: 0.5048 - accuracy: 0.7804 - val_loss: 0.4825 - val_accuracy: 0.8117\n",
            "Epoch 18/5000\n",
            "15/15 [==============================] - 0s 4ms/step - loss: 0.5034 - accuracy: 0.7717 - val_loss: 0.4836 - val_accuracy: 0.8117\n",
            "Epoch 19/5000\n",
            "15/15 [==============================] - 0s 5ms/step - loss: 0.5059 - accuracy: 0.7826 - val_loss: 0.4710 - val_accuracy: 0.8117\n",
            "Epoch 20/5000\n",
            "15/15 [==============================] - 0s 5ms/step - loss: 0.4978 - accuracy: 0.7826 - val_loss: 0.4718 - val_accuracy: 0.8052\n",
            "Epoch 21/5000\n",
            "15/15 [==============================] - 0s 5ms/step - loss: 0.5002 - accuracy: 0.7826 - val_loss: 0.4765 - val_accuracy: 0.8052\n",
            "Epoch 22/5000\n",
            "15/15 [==============================] - 0s 4ms/step - loss: 0.4944 - accuracy: 0.7870 - val_loss: 0.4713 - val_accuracy: 0.7987\n",
            "Epoch 23/5000\n",
            "15/15 [==============================] - 0s 4ms/step - loss: 0.4958 - accuracy: 0.7804 - val_loss: 0.4703 - val_accuracy: 0.8117\n",
            "Epoch 24/5000\n",
            "15/15 [==============================] - 0s 4ms/step - loss: 0.5000 - accuracy: 0.7870 - val_loss: 0.4697 - val_accuracy: 0.7987\n",
            "Epoch 25/5000\n",
            "15/15 [==============================] - 0s 4ms/step - loss: 0.4945 - accuracy: 0.7783 - val_loss: 0.4606 - val_accuracy: 0.8117\n",
            "Epoch 26/5000\n",
            "15/15 [==============================] - 0s 4ms/step - loss: 0.4933 - accuracy: 0.7783 - val_loss: 0.4678 - val_accuracy: 0.7922\n",
            "Epoch 27/5000\n",
            "15/15 [==============================] - 0s 5ms/step - loss: 0.4910 - accuracy: 0.7935 - val_loss: 0.4664 - val_accuracy: 0.8182\n",
            "Epoch 28/5000\n",
            "15/15 [==============================] - 0s 4ms/step - loss: 0.4944 - accuracy: 0.7739 - val_loss: 0.4658 - val_accuracy: 0.8117\n",
            "Epoch 29/5000\n",
            "15/15 [==============================] - 0s 5ms/step - loss: 0.4959 - accuracy: 0.7739 - val_loss: 0.4683 - val_accuracy: 0.7987\n",
            "Epoch 30/5000\n",
            "15/15 [==============================] - 0s 4ms/step - loss: 0.4898 - accuracy: 0.7848 - val_loss: 0.4624 - val_accuracy: 0.8117\n",
            "Epoch 31/5000\n",
            "15/15 [==============================] - 0s 4ms/step - loss: 0.4899 - accuracy: 0.7891 - val_loss: 0.4665 - val_accuracy: 0.7987\n",
            "Epoch 32/5000\n",
            "15/15 [==============================] - 0s 5ms/step - loss: 0.4876 - accuracy: 0.7891 - val_loss: 0.4627 - val_accuracy: 0.7857\n",
            "Epoch 33/5000\n",
            "15/15 [==============================] - 0s 4ms/step - loss: 0.4955 - accuracy: 0.7761 - val_loss: 0.4616 - val_accuracy: 0.7987\n",
            "Epoch 34/5000\n",
            "15/15 [==============================] - 0s 4ms/step - loss: 0.4912 - accuracy: 0.7804 - val_loss: 0.4611 - val_accuracy: 0.8247\n",
            "Epoch 35/5000\n",
            "15/15 [==============================] - 0s 4ms/step - loss: 0.4878 - accuracy: 0.7761 - val_loss: 0.4654 - val_accuracy: 0.7792\n",
            "Epoch 36/5000\n",
            "15/15 [==============================] - 0s 4ms/step - loss: 0.4814 - accuracy: 0.7935 - val_loss: 0.4670 - val_accuracy: 0.7857\n",
            "Epoch 37/5000\n",
            "15/15 [==============================] - 0s 3ms/step - loss: 0.4809 - accuracy: 0.7957 - val_loss: 0.4644 - val_accuracy: 0.7922\n",
            "Epoch 38/5000\n",
            "15/15 [==============================] - 0s 5ms/step - loss: 0.4806 - accuracy: 0.7935 - val_loss: 0.4632 - val_accuracy: 0.7922\n",
            "Epoch 39/5000\n",
            "15/15 [==============================] - 0s 5ms/step - loss: 0.4800 - accuracy: 0.7957 - val_loss: 0.4620 - val_accuracy: 0.7987\n",
            "Epoch 40/5000\n",
            "15/15 [==============================] - 0s 4ms/step - loss: 0.4802 - accuracy: 0.7935 - val_loss: 0.4622 - val_accuracy: 0.8052\n",
            "Epoch 41/5000\n",
            "15/15 [==============================] - 0s 4ms/step - loss: 0.4796 - accuracy: 0.7891 - val_loss: 0.4624 - val_accuracy: 0.7987\n",
            "Epoch 42/5000\n",
            "15/15 [==============================] - 0s 4ms/step - loss: 0.4797 - accuracy: 0.7913 - val_loss: 0.4618 - val_accuracy: 0.8052\n",
            "Epoch 43/5000\n",
            "15/15 [==============================] - 0s 4ms/step - loss: 0.4798 - accuracy: 0.7891 - val_loss: 0.4617 - val_accuracy: 0.8052\n",
            "Epoch 44/5000\n",
            "15/15 [==============================] - 0s 4ms/step - loss: 0.4798 - accuracy: 0.7891 - val_loss: 0.4612 - val_accuracy: 0.8052\n",
            "Epoch 45/5000\n",
            "15/15 [==============================] - 0s 4ms/step - loss: 0.4799 - accuracy: 0.7891 - val_loss: 0.4615 - val_accuracy: 0.7987\n",
            "Epoch 46/5000\n",
            "15/15 [==============================] - 0s 4ms/step - loss: 0.4787 - accuracy: 0.7891 - val_loss: 0.4615 - val_accuracy: 0.7987\n",
            "Epoch 47/5000\n",
            "15/15 [==============================] - 0s 4ms/step - loss: 0.4786 - accuracy: 0.7891 - val_loss: 0.4614 - val_accuracy: 0.7987\n",
            "Epoch 48/5000\n",
            "15/15 [==============================] - 0s 3ms/step - loss: 0.4786 - accuracy: 0.7891 - val_loss: 0.4615 - val_accuracy: 0.7987\n",
            "Epoch 49/5000\n",
            "15/15 [==============================] - 0s 5ms/step - loss: 0.4785 - accuracy: 0.7891 - val_loss: 0.4615 - val_accuracy: 0.7987\n",
            "Epoch 50/5000\n",
            "15/15 [==============================] - 0s 3ms/step - loss: 0.4785 - accuracy: 0.7891 - val_loss: 0.4615 - val_accuracy: 0.7987\n",
            "Epoch 51/5000\n",
            "15/15 [==============================] - 0s 3ms/step - loss: 0.4786 - accuracy: 0.7891 - val_loss: 0.4614 - val_accuracy: 0.7987\n",
            "Epoch 52/5000\n",
            "15/15 [==============================] - 0s 4ms/step - loss: 0.4785 - accuracy: 0.7891 - val_loss: 0.4614 - val_accuracy: 0.7987\n",
            "Epoch 53/5000\n",
            "15/15 [==============================] - 0s 4ms/step - loss: 0.4785 - accuracy: 0.7870 - val_loss: 0.4616 - val_accuracy: 0.7987\n",
            "Epoch 54/5000\n",
            "15/15 [==============================] - 0s 5ms/step - loss: 0.4785 - accuracy: 0.7891 - val_loss: 0.4615 - val_accuracy: 0.7987\n",
            "Epoch 55/5000\n",
            "15/15 [==============================] - 0s 3ms/step - loss: 0.4785 - accuracy: 0.7891 - val_loss: 0.4616 - val_accuracy: 0.7987\n",
            "Epoch 56/5000\n",
            "15/15 [==============================] - 0s 5ms/step - loss: 0.4784 - accuracy: 0.7891 - val_loss: 0.4616 - val_accuracy: 0.7987\n",
            "Epoch 57/5000\n",
            "15/15 [==============================] - 0s 3ms/step - loss: 0.4784 - accuracy: 0.7891 - val_loss: 0.4616 - val_accuracy: 0.7987\n",
            "Epoch 58/5000\n",
            "15/15 [==============================] - 0s 5ms/step - loss: 0.4784 - accuracy: 0.7891 - val_loss: 0.4616 - val_accuracy: 0.7987\n",
            "Epoch 59/5000\n",
            "15/15 [==============================] - 0s 4ms/step - loss: 0.4784 - accuracy: 0.7891 - val_loss: 0.4616 - val_accuracy: 0.7987\n",
            "Epoch 60/5000\n",
            "15/15 [==============================] - 0s 3ms/step - loss: 0.4784 - accuracy: 0.7891 - val_loss: 0.4616 - val_accuracy: 0.7987\n",
            "Epoch 61/5000\n",
            "15/15 [==============================] - 0s 3ms/step - loss: 0.4784 - accuracy: 0.7891 - val_loss: 0.4616 - val_accuracy: 0.7987\n",
            "Epoch 62/5000\n",
            "15/15 [==============================] - 0s 5ms/step - loss: 0.4784 - accuracy: 0.7891 - val_loss: 0.4616 - val_accuracy: 0.7987\n",
            "Epoch 63/5000\n",
            "15/15 [==============================] - 0s 5ms/step - loss: 0.4784 - accuracy: 0.7891 - val_loss: 0.4617 - val_accuracy: 0.7987\n",
            "Epoch 64/5000\n",
            "15/15 [==============================] - 0s 3ms/step - loss: 0.4784 - accuracy: 0.7891 - val_loss: 0.4617 - val_accuracy: 0.7987\n",
            "Epoch 65/5000\n",
            "15/15 [==============================] - 0s 3ms/step - loss: 0.4784 - accuracy: 0.7891 - val_loss: 0.4617 - val_accuracy: 0.7987\n",
            "Epoch 66/5000\n",
            "15/15 [==============================] - 0s 4ms/step - loss: 0.4784 - accuracy: 0.7891 - val_loss: 0.4617 - val_accuracy: 0.7987\n",
            "Epoch 67/5000\n",
            "15/15 [==============================] - 0s 5ms/step - loss: 0.4784 - accuracy: 0.7891 - val_loss: 0.4617 - val_accuracy: 0.7987\n",
            "Epoch 68/5000\n",
            "15/15 [==============================] - 0s 5ms/step - loss: 0.4784 - accuracy: 0.7891 - val_loss: 0.4617 - val_accuracy: 0.7987\n",
            "Epoch 69/5000\n",
            "15/15 [==============================] - 0s 5ms/step - loss: 0.4784 - accuracy: 0.7891 - val_loss: 0.4617 - val_accuracy: 0.7987\n",
            "Epoch 70/5000\n",
            "15/15 [==============================] - 0s 4ms/step - loss: 0.4784 - accuracy: 0.7891 - val_loss: 0.4617 - val_accuracy: 0.7987\n",
            "Epoch 71/5000\n",
            "15/15 [==============================] - 0s 3ms/step - loss: 0.4784 - accuracy: 0.7891 - val_loss: 0.4617 - val_accuracy: 0.7987\n",
            "Epoch 72/5000\n",
            "15/15 [==============================] - 0s 5ms/step - loss: 0.4784 - accuracy: 0.7891 - val_loss: 0.4617 - val_accuracy: 0.7987\n",
            "Epoch 73/5000\n",
            "15/15 [==============================] - 0s 5ms/step - loss: 0.4784 - accuracy: 0.7891 - val_loss: 0.4617 - val_accuracy: 0.7987\n",
            "Epoch 74/5000\n",
            "15/15 [==============================] - 0s 4ms/step - loss: 0.4784 - accuracy: 0.7891 - val_loss: 0.4617 - val_accuracy: 0.7987\n",
            "Epoch 75/5000\n",
            "15/15 [==============================] - 0s 5ms/step - loss: 0.4784 - accuracy: 0.7891 - val_loss: 0.4617 - val_accuracy: 0.7987\n",
            "Epoch 76/5000\n",
            "15/15 [==============================] - 0s 4ms/step - loss: 0.4784 - accuracy: 0.7891 - val_loss: 0.4617 - val_accuracy: 0.7987\n",
            "Epoch 77/5000\n",
            "15/15 [==============================] - 0s 4ms/step - loss: 0.4784 - accuracy: 0.7891 - val_loss: 0.4617 - val_accuracy: 0.7987\n",
            "Epoch 78/5000\n",
            "15/15 [==============================] - 0s 5ms/step - loss: 0.4784 - accuracy: 0.7891 - val_loss: 0.4617 - val_accuracy: 0.7987\n",
            "Epoch 79/5000\n",
            "15/15 [==============================] - 0s 4ms/step - loss: 0.4784 - accuracy: 0.7891 - val_loss: 0.4617 - val_accuracy: 0.7987\n",
            "Epoch 80/5000\n",
            "15/15 [==============================] - 0s 5ms/step - loss: 0.4784 - accuracy: 0.7891 - val_loss: 0.4617 - val_accuracy: 0.7987\n",
            "Epoch 81/5000\n",
            "15/15 [==============================] - 0s 3ms/step - loss: 0.4784 - accuracy: 0.7891 - val_loss: 0.4617 - val_accuracy: 0.7987\n",
            "Epoch 82/5000\n",
            "15/15 [==============================] - 0s 4ms/step - loss: 0.4784 - accuracy: 0.7891 - val_loss: 0.4617 - val_accuracy: 0.7987\n",
            "Epoch 83/5000\n",
            "15/15 [==============================] - 0s 4ms/step - loss: 0.4784 - accuracy: 0.7891 - val_loss: 0.4617 - val_accuracy: 0.7987\n",
            "Epoch 84/5000\n",
            "15/15 [==============================] - 0s 4ms/step - loss: 0.4784 - accuracy: 0.7891 - val_loss: 0.4617 - val_accuracy: 0.7987\n",
            "Epoch 85/5000\n",
            "15/15 [==============================] - 0s 4ms/step - loss: 0.4784 - accuracy: 0.7891 - val_loss: 0.4617 - val_accuracy: 0.7987\n",
            "Epoch 86/5000\n",
            "15/15 [==============================] - 0s 5ms/step - loss: 0.4784 - accuracy: 0.7891 - val_loss: 0.4617 - val_accuracy: 0.7987\n",
            "Epoch 87/5000\n",
            "15/15 [==============================] - 0s 4ms/step - loss: 0.4784 - accuracy: 0.7891 - val_loss: 0.4617 - val_accuracy: 0.7987\n",
            "Epoch 88/5000\n",
            "15/15 [==============================] - 0s 3ms/step - loss: 0.4784 - accuracy: 0.7891 - val_loss: 0.4617 - val_accuracy: 0.7987\n",
            "Epoch 89/5000\n",
            "15/15 [==============================] - 0s 4ms/step - loss: 0.4784 - accuracy: 0.7891 - val_loss: 0.4617 - val_accuracy: 0.7987\n",
            "Epoch 90/5000\n",
            "15/15 [==============================] - 0s 4ms/step - loss: 0.4784 - accuracy: 0.7891 - val_loss: 0.4617 - val_accuracy: 0.7987\n",
            "Epoch 91/5000\n",
            "15/15 [==============================] - 0s 4ms/step - loss: 0.4784 - accuracy: 0.7891 - val_loss: 0.4617 - val_accuracy: 0.7987\n",
            "Epoch 92/5000\n",
            "15/15 [==============================] - 0s 5ms/step - loss: 0.4784 - accuracy: 0.7891 - val_loss: 0.4617 - val_accuracy: 0.7987\n",
            "Epoch 93/5000\n",
            "15/15 [==============================] - 0s 4ms/step - loss: 0.4784 - accuracy: 0.7891 - val_loss: 0.4617 - val_accuracy: 0.7987\n",
            "Epoch 94/5000\n",
            "15/15 [==============================] - 0s 5ms/step - loss: 0.4784 - accuracy: 0.7891 - val_loss: 0.4617 - val_accuracy: 0.7987\n",
            "Epoch 95/5000\n",
            "15/15 [==============================] - 0s 5ms/step - loss: 0.4784 - accuracy: 0.7891 - val_loss: 0.4617 - val_accuracy: 0.7987\n",
            "Epoch 96/5000\n",
            "15/15 [==============================] - 0s 5ms/step - loss: 0.4784 - accuracy: 0.7891 - val_loss: 0.4617 - val_accuracy: 0.7987\n",
            "Epoch 97/5000\n",
            "15/15 [==============================] - 0s 5ms/step - loss: 0.4784 - accuracy: 0.7891 - val_loss: 0.4617 - val_accuracy: 0.7987\n",
            "Epoch 98/5000\n",
            "15/15 [==============================] - 0s 3ms/step - loss: 0.4784 - accuracy: 0.7891 - val_loss: 0.4617 - val_accuracy: 0.7987\n",
            "Epoch 99/5000\n",
            "15/15 [==============================] - 0s 4ms/step - loss: 0.4784 - accuracy: 0.7891 - val_loss: 0.4617 - val_accuracy: 0.7987\n",
            "Epoch 100/5000\n",
            "15/15 [==============================] - 0s 4ms/step - loss: 0.4784 - accuracy: 0.7891 - val_loss: 0.4617 - val_accuracy: 0.7987\n",
            "Epoch 101/5000\n",
            "15/15 [==============================] - 0s 4ms/step - loss: 0.4784 - accuracy: 0.7891 - val_loss: 0.4617 - val_accuracy: 0.7987\n",
            "Epoch 102/5000\n",
            "15/15 [==============================] - 0s 5ms/step - loss: 0.4784 - accuracy: 0.7891 - val_loss: 0.4617 - val_accuracy: 0.7987\n",
            "Epoch 103/5000\n",
            "15/15 [==============================] - 0s 5ms/step - loss: 0.4784 - accuracy: 0.7891 - val_loss: 0.4617 - val_accuracy: 0.7987\n",
            "Epoch 104/5000\n",
            "15/15 [==============================] - 0s 4ms/step - loss: 0.4784 - accuracy: 0.7891 - val_loss: 0.4617 - val_accuracy: 0.7987\n",
            "Epoch 105/5000\n",
            "15/15 [==============================] - 0s 5ms/step - loss: 0.4784 - accuracy: 0.7891 - val_loss: 0.4617 - val_accuracy: 0.7987\n",
            "Epoch 106/5000\n",
            "15/15 [==============================] - 0s 4ms/step - loss: 0.4784 - accuracy: 0.7891 - val_loss: 0.4617 - val_accuracy: 0.7987\n",
            "Epoch 107/5000\n",
            "15/15 [==============================] - 0s 5ms/step - loss: 0.4784 - accuracy: 0.7891 - val_loss: 0.4617 - val_accuracy: 0.7987\n",
            "Epoch 108/5000\n",
            "15/15 [==============================] - 0s 5ms/step - loss: 0.4784 - accuracy: 0.7891 - val_loss: 0.4617 - val_accuracy: 0.7987\n",
            "Epoch 109/5000\n",
            "15/15 [==============================] - 0s 4ms/step - loss: 0.4784 - accuracy: 0.7891 - val_loss: 0.4617 - val_accuracy: 0.7987\n",
            "Epoch 110/5000\n",
            "15/15 [==============================] - 0s 4ms/step - loss: 0.4784 - accuracy: 0.7891 - val_loss: 0.4617 - val_accuracy: 0.7987\n",
            "Epoch 111/5000\n",
            "15/15 [==============================] - 0s 5ms/step - loss: 0.4784 - accuracy: 0.7891 - val_loss: 0.4617 - val_accuracy: 0.7987\n",
            "Epoch 112/5000\n",
            "15/15 [==============================] - 0s 4ms/step - loss: 0.4784 - accuracy: 0.7891 - val_loss: 0.4617 - val_accuracy: 0.7987\n",
            "Epoch 113/5000\n",
            "15/15 [==============================] - 0s 4ms/step - loss: 0.4784 - accuracy: 0.7891 - val_loss: 0.4617 - val_accuracy: 0.7987\n"
          ]
        }
      ],
      "metadata": {
        "colab": {
          "base_uri": "https://localhost:8080/"
        },
        "id": "VNcZX_h0CRB_",
        "outputId": "a70b0344-50fb-4c3b-e987-a4719df94760"
      }
    },
    {
      "cell_type": "code",
      "execution_count": null,
      "source": [
        "plot_hist(hist_l2)"
      ],
      "outputs": [
        {
          "output_type": "display_data",
          "data": {
            "image/png": "[encoded data removed]",
            "text/plain": [
              "<Figure size 432x288 with 1 Axes>"
            ]
          },
          "metadata": {
            "needs_background": "light"
          }
        },
        {
          "output_type": "display_data",
          "data": {
            "image/png": "[encoded data removed]",
            "text/plain": [
              "<Figure size 432x288 with 1 Axes>"
            ]
          },
          "metadata": {
            "needs_background": "light"
          }
        }
      ],
      "metadata": {
        "colab": {
          "base_uri": "https://localhost:8080/",
          "height": 545
        },
        "id": "L62fT6o7ICn7",
        "outputId": "00953fa6-cd55-45db-ba25-a10c82a261a5"
      }
    },
    {
      "cell_type": "code",
      "execution_count": null,
      "source": [
        "# l2_model.load_weights('/content/l2_model/weights/model_l2.40-0.47.h5')"
      ],
      "outputs": [],
      "metadata": {
        "id": "1oeaiajx7DX0"
      }
    },
    {
      "cell_type": "code",
      "execution_count": null,
      "source": [
        "evaluate_model(l2_model, X_test, Y_test)"
      ],
      "outputs": [
        {
          "output_type": "stream",
          "name": "stdout",
          "text": [
            "Accuracy on test set: 77.92207598686218 %\n",
            "F1 score on test set: 65.3061224489796 %\n",
            "\n",
            "\n",
            "CONFUSION MATRIX\n",
            "\n",
            "[[88 12]\n",
            " [22 32]]\n",
            "\n",
            "\n",
            "CLASSIFICATION REPORT\n",
            "\n",
            "              precision    recall  f1-score   support\n",
            "\n",
            "           0       0.80      0.88      0.84       100\n",
            "           1       0.73      0.59      0.65        54\n",
            "\n",
            "    accuracy                           0.78       154\n",
            "   macro avg       0.76      0.74      0.75       154\n",
            "weighted avg       0.77      0.78      0.77       154\n",
            "\n",
            "\n",
            "\n"
          ]
        }
      ],
      "metadata": {
        "colab": {
          "base_uri": "https://localhost:8080/"
        },
        "id": "Y2yV8mPiPbys",
        "outputId": "873fb211-90d2-4ffb-c53f-450492f8b7a7"
      }
    },
    {
      "cell_type": "markdown",
      "source": [
        "## Part 3: Bonus : Dropout\n",
        "\n",
        "Architecture :\n",
        "\n",
        "![image.png](data:image/png;base64,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)"
      ],
      "metadata": {
        "id": "ABYzDpv1BZTV"
      }
    },
    {
      "cell_type": "code",
      "execution_count": 8,
      "source": [
        "def dropout_nn(input_shape):\r\n",
        "  X_input = Input(shape=input_shape,  name = 'Input')\r\n",
        "\r\n",
        "  X = Dense(8, 'relu', name = 'fc_1')(X_input)\r\n",
        "  X = Dropout(0.125, name= 'dr_1')(X)\r\n",
        "  X = Dense(4, 'relu', name = 'fc_2')(X)\r\n",
        "  X = Dropout(0.25, name = 'dr_2')(X)\r\n",
        "  out = Dense(1, 'sigmoid', name = 'Output')(X)\r\n",
        "\r\n",
        "  model = Model(X_input, out, name='drop_nn')\r\n",
        "\r\n",
        "  return model"
      ],
      "outputs": [],
      "metadata": {
        "id": "kArRy5S0EfOo"
      }
    },
    {
      "cell_type": "code",
      "execution_count": 9,
      "source": [
        "dropout_model = dropout_nn((8))"
      ],
      "outputs": [],
      "metadata": {
        "id": "Tgnm_deIE03q"
      }
    },
    {
      "cell_type": "code",
      "execution_count": null,
      "source": [
        "dropout_model.compile(loss = 'binary_crossentropy',optimizer=tf.keras.optimizers.Adam(0.01), metrics = ['accuracy'])"
      ],
      "outputs": [],
      "metadata": {
        "id": "QZ3GqDfpRgvy"
      }
    },
    {
      "cell_type": "code",
      "execution_count": null,
      "source": [
        "my_callbacks = [\r\n",
        "    tf.keras.callbacks.ModelCheckpoint(filepath='./dropout_model/weights/model_dropout.{epoch:02d}-{val_loss:.2f}.h5'),\r\n",
        "    tf.keras.callbacks.TensorBoard(log_dir='./dropout_model/logs'),\r\n",
        "    tf.keras.callbacks.EarlyStopping(monitor='loss', patience=20),\r\n",
        "    tf.keras.callbacks.ReduceLROnPlateau()\r\n",
        "]"
      ],
      "outputs": [],
      "metadata": {
        "id": "k-9OXhweE5PV"
      }
    },
    {
      "cell_type": "code",
      "execution_count": null,
      "source": [
        "hist_dropout = dropout_model.fit(x = X_train, y = Y_train, validation_data= (X_val, Y_val), epochs = 5000, verbose='auto', callbacks=my_callbacks)"
      ],
      "outputs": [
        {
          "output_type": "stream",
          "name": "stdout",
          "text": [
            "Epoch 1/5000\n",
            "15/15 [==============================] - 1s 22ms/step - loss: 0.6964 - accuracy: 0.5696 - val_loss: 0.6246 - val_accuracy: 0.6948\n",
            "Epoch 2/5000\n",
            "15/15 [==============================] - 0s 4ms/step - loss: 0.6371 - accuracy: 0.6239 - val_loss: 0.5837 - val_accuracy: 0.6753\n",
            "Epoch 3/5000\n",
            "15/15 [==============================] - 0s 4ms/step - loss: 0.5796 - accuracy: 0.6913 - val_loss: 0.5259 - val_accuracy: 0.7597\n",
            "Epoch 4/5000\n",
            "15/15 [==============================] - 0s 3ms/step - loss: 0.5584 - accuracy: 0.7109 - val_loss: 0.4834 - val_accuracy: 0.7727\n",
            "Epoch 5/5000\n",
            "15/15 [==============================] - 0s 5ms/step - loss: 0.5490 - accuracy: 0.7109 - val_loss: 0.4684 - val_accuracy: 0.7792\n",
            "Epoch 6/5000\n",
            "15/15 [==============================] - 0s 4ms/step - loss: 0.5497 - accuracy: 0.7217 - val_loss: 0.4672 - val_accuracy: 0.7792\n",
            "Epoch 7/5000\n",
            "15/15 [==============================] - 0s 4ms/step - loss: 0.5246 - accuracy: 0.7370 - val_loss: 0.4612 - val_accuracy: 0.7987\n",
            "Epoch 8/5000\n",
            "15/15 [==============================] - 0s 5ms/step - loss: 0.4986 - accuracy: 0.7652 - val_loss: 0.4621 - val_accuracy: 0.7922\n",
            "Epoch 9/5000\n",
            "15/15 [==============================] - 0s 6ms/step - loss: 0.5432 - accuracy: 0.7065 - val_loss: 0.4693 - val_accuracy: 0.8052\n",
            "Epoch 10/5000\n",
            "15/15 [==============================] - 0s 4ms/step - loss: 0.5231 - accuracy: 0.7348 - val_loss: 0.4738 - val_accuracy: 0.7922\n",
            "Epoch 11/5000\n",
            "15/15 [==============================] - 0s 5ms/step - loss: 0.5293 - accuracy: 0.7152 - val_loss: 0.4875 - val_accuracy: 0.7987\n",
            "Epoch 12/5000\n",
            "15/15 [==============================] - 0s 4ms/step - loss: 0.5111 - accuracy: 0.7413 - val_loss: 0.4868 - val_accuracy: 0.7922\n",
            "Epoch 13/5000\n",
            "15/15 [==============================] - 0s 4ms/step - loss: 0.5148 - accuracy: 0.7087 - val_loss: 0.4846 - val_accuracy: 0.7922\n",
            "Epoch 14/5000\n",
            "15/15 [==============================] - 0s 5ms/step - loss: 0.5186 - accuracy: 0.7370 - val_loss: 0.4780 - val_accuracy: 0.7987\n",
            "Epoch 15/5000\n",
            "15/15 [==============================] - 0s 3ms/step - loss: 0.5025 - accuracy: 0.7457 - val_loss: 0.4707 - val_accuracy: 0.7922\n",
            "Epoch 16/5000\n",
            "15/15 [==============================] - 0s 3ms/step - loss: 0.5163 - accuracy: 0.7304 - val_loss: 0.4824 - val_accuracy: 0.7987\n",
            "Epoch 17/5000\n",
            "15/15 [==============================] - 0s 4ms/step - loss: 0.5142 - accuracy: 0.7217 - val_loss: 0.4801 - val_accuracy: 0.7922\n",
            "Epoch 18/5000\n",
            "15/15 [==============================] - 0s 4ms/step - loss: 0.4926 - accuracy: 0.7326 - val_loss: 0.4795 - val_accuracy: 0.7922\n",
            "Epoch 19/5000\n",
            "15/15 [==============================] - 0s 4ms/step - loss: 0.5006 - accuracy: 0.7522 - val_loss: 0.4790 - val_accuracy: 0.7922\n",
            "Epoch 20/5000\n",
            "15/15 [==============================] - 0s 4ms/step - loss: 0.4982 - accuracy: 0.7239 - val_loss: 0.4793 - val_accuracy: 0.7922\n",
            "Epoch 21/5000\n",
            "15/15 [==============================] - 0s 5ms/step - loss: 0.5138 - accuracy: 0.7370 - val_loss: 0.4786 - val_accuracy: 0.7857\n",
            "Epoch 22/5000\n",
            "15/15 [==============================] - 0s 4ms/step - loss: 0.5000 - accuracy: 0.7413 - val_loss: 0.4778 - val_accuracy: 0.7857\n",
            "Epoch 23/5000\n",
            "15/15 [==============================] - 0s 4ms/step - loss: 0.4885 - accuracy: 0.7565 - val_loss: 0.4776 - val_accuracy: 0.7857\n",
            "Epoch 24/5000\n",
            "15/15 [==============================] - 0s 5ms/step - loss: 0.5208 - accuracy: 0.7283 - val_loss: 0.4779 - val_accuracy: 0.7857\n",
            "Epoch 25/5000\n",
            "15/15 [==============================] - 0s 5ms/step - loss: 0.5004 - accuracy: 0.7652 - val_loss: 0.4770 - val_accuracy: 0.7857\n",
            "Epoch 26/5000\n",
            "15/15 [==============================] - 0s 4ms/step - loss: 0.5009 - accuracy: 0.7370 - val_loss: 0.4768 - val_accuracy: 0.7857\n",
            "Epoch 27/5000\n",
            "15/15 [==============================] - 0s 4ms/step - loss: 0.5186 - accuracy: 0.7239 - val_loss: 0.4766 - val_accuracy: 0.7857\n",
            "Epoch 28/5000\n",
            "15/15 [==============================] - 0s 4ms/step - loss: 0.4959 - accuracy: 0.7478 - val_loss: 0.4766 - val_accuracy: 0.7857\n",
            "Epoch 29/5000\n",
            "15/15 [==============================] - 0s 4ms/step - loss: 0.4961 - accuracy: 0.7457 - val_loss: 0.4765 - val_accuracy: 0.7857\n",
            "Epoch 30/5000\n",
            "15/15 [==============================] - 0s 5ms/step - loss: 0.5032 - accuracy: 0.7283 - val_loss: 0.4766 - val_accuracy: 0.7857\n",
            "Epoch 31/5000\n",
            "15/15 [==============================] - 0s 4ms/step - loss: 0.4964 - accuracy: 0.7630 - val_loss: 0.4766 - val_accuracy: 0.7857\n",
            "Epoch 32/5000\n",
            "15/15 [==============================] - 0s 5ms/step - loss: 0.4894 - accuracy: 0.7674 - val_loss: 0.4766 - val_accuracy: 0.7857\n",
            "Epoch 33/5000\n",
            "15/15 [==============================] - 0s 4ms/step - loss: 0.5003 - accuracy: 0.7304 - val_loss: 0.4764 - val_accuracy: 0.7857\n",
            "Epoch 34/5000\n",
            "15/15 [==============================] - 0s 4ms/step - loss: 0.5092 - accuracy: 0.7239 - val_loss: 0.4764 - val_accuracy: 0.7857\n",
            "Epoch 35/5000\n",
            "15/15 [==============================] - 0s 4ms/step - loss: 0.4900 - accuracy: 0.7435 - val_loss: 0.4764 - val_accuracy: 0.7857\n",
            "Epoch 36/5000\n",
            "15/15 [==============================] - 0s 5ms/step - loss: 0.4988 - accuracy: 0.7478 - val_loss: 0.4765 - val_accuracy: 0.7857\n",
            "Epoch 37/5000\n",
            "15/15 [==============================] - 0s 4ms/step - loss: 0.5199 - accuracy: 0.7370 - val_loss: 0.4766 - val_accuracy: 0.7857\n",
            "Epoch 38/5000\n",
            "15/15 [==============================] - 0s 4ms/step - loss: 0.4955 - accuracy: 0.7478 - val_loss: 0.4766 - val_accuracy: 0.7857\n",
            "Epoch 39/5000\n",
            "15/15 [==============================] - 0s 5ms/step - loss: 0.5077 - accuracy: 0.7283 - val_loss: 0.4766 - val_accuracy: 0.7857\n",
            "Epoch 40/5000\n",
            "15/15 [==============================] - 0s 5ms/step - loss: 0.4877 - accuracy: 0.7304 - val_loss: 0.4766 - val_accuracy: 0.7857\n",
            "Epoch 41/5000\n",
            "15/15 [==============================] - 0s 5ms/step - loss: 0.4965 - accuracy: 0.7609 - val_loss: 0.4766 - val_accuracy: 0.7857\n",
            "Epoch 42/5000\n",
            "15/15 [==============================] - 0s 4ms/step - loss: 0.4745 - accuracy: 0.7413 - val_loss: 0.4766 - val_accuracy: 0.7857\n",
            "Epoch 43/5000\n",
            "15/15 [==============================] - 0s 4ms/step - loss: 0.5108 - accuracy: 0.7283 - val_loss: 0.4766 - val_accuracy: 0.7857\n",
            "Epoch 44/5000\n",
            "15/15 [==============================] - 0s 5ms/step - loss: 0.4834 - accuracy: 0.7652 - val_loss: 0.4766 - val_accuracy: 0.7857\n",
            "Epoch 45/5000\n",
            "15/15 [==============================] - 0s 4ms/step - loss: 0.5049 - accuracy: 0.7543 - val_loss: 0.4766 - val_accuracy: 0.7857\n",
            "Epoch 46/5000\n",
            "15/15 [==============================] - 0s 3ms/step - loss: 0.4926 - accuracy: 0.7587 - val_loss: 0.4766 - val_accuracy: 0.7857\n",
            "Epoch 47/5000\n",
            "15/15 [==============================] - 0s 5ms/step - loss: 0.5167 - accuracy: 0.7196 - val_loss: 0.4766 - val_accuracy: 0.7857\n",
            "Epoch 48/5000\n",
            "15/15 [==============================] - 0s 4ms/step - loss: 0.5140 - accuracy: 0.7522 - val_loss: 0.4766 - val_accuracy: 0.7857\n",
            "Epoch 49/5000\n",
            "15/15 [==============================] - 0s 5ms/step - loss: 0.4805 - accuracy: 0.7478 - val_loss: 0.4766 - val_accuracy: 0.7857\n",
            "Epoch 50/5000\n",
            "15/15 [==============================] - 0s 4ms/step - loss: 0.5029 - accuracy: 0.7522 - val_loss: 0.4766 - val_accuracy: 0.7857\n",
            "Epoch 51/5000\n",
            "15/15 [==============================] - 0s 3ms/step - loss: 0.4850 - accuracy: 0.7565 - val_loss: 0.4766 - val_accuracy: 0.7857\n",
            "Epoch 52/5000\n",
            "15/15 [==============================] - 0s 3ms/step - loss: 0.4893 - accuracy: 0.7500 - val_loss: 0.4766 - val_accuracy: 0.7857\n",
            "Epoch 53/5000\n",
            "15/15 [==============================] - 0s 4ms/step - loss: 0.5182 - accuracy: 0.7217 - val_loss: 0.4766 - val_accuracy: 0.7857\n",
            "Epoch 54/5000\n",
            "15/15 [==============================] - 0s 4ms/step - loss: 0.4954 - accuracy: 0.7457 - val_loss: 0.4766 - val_accuracy: 0.7857\n",
            "Epoch 55/5000\n",
            "15/15 [==============================] - 0s 5ms/step - loss: 0.4869 - accuracy: 0.7478 - val_loss: 0.4766 - val_accuracy: 0.7857\n",
            "Epoch 56/5000\n",
            "15/15 [==============================] - 0s 4ms/step - loss: 0.4935 - accuracy: 0.7348 - val_loss: 0.4766 - val_accuracy: 0.7857\n",
            "Epoch 57/5000\n",
            "15/15 [==============================] - 0s 4ms/step - loss: 0.4857 - accuracy: 0.7674 - val_loss: 0.4766 - val_accuracy: 0.7857\n",
            "Epoch 58/5000\n",
            "15/15 [==============================] - 0s 4ms/step - loss: 0.4860 - accuracy: 0.7783 - val_loss: 0.4766 - val_accuracy: 0.7857\n",
            "Epoch 59/5000\n",
            "15/15 [==============================] - 0s 4ms/step - loss: 0.5002 - accuracy: 0.7435 - val_loss: 0.4766 - val_accuracy: 0.7857\n",
            "Epoch 60/5000\n",
            "15/15 [==============================] - 0s 4ms/step - loss: 0.5095 - accuracy: 0.7130 - val_loss: 0.4766 - val_accuracy: 0.7857\n",
            "Epoch 61/5000\n",
            "15/15 [==============================] - 0s 4ms/step - loss: 0.4929 - accuracy: 0.7652 - val_loss: 0.4766 - val_accuracy: 0.7857\n",
            "Epoch 62/5000\n",
            "15/15 [==============================] - 0s 4ms/step - loss: 0.5007 - accuracy: 0.7413 - val_loss: 0.4766 - val_accuracy: 0.7857\n"
          ]
        }
      ],
      "metadata": {
        "colab": {
          "base_uri": "https://localhost:8080/"
        },
        "id": "xvWBlMtpE6ql",
        "outputId": "cd89c30c-4a43-4369-9fac-710fa1ef3739"
      }
    },
    {
      "cell_type": "code",
      "execution_count": null,
      "source": [
        "plot_hist(hist_dropout)"
      ],
      "outputs": [
        {
          "output_type": "display_data",
          "data": {
            "image/png": "[encoded data removed]",
            "text/plain": [
              "<Figure size 432x288 with 1 Axes>"
            ]
          },
          "metadata": {
            "needs_background": "light"
          }
        },
        {
          "output_type": "display_data",
          "data": {
            "image/png": "[encoded data removed]",
            "text/plain": [
              "<Figure size 432x288 with 1 Axes>"
            ]
          },
          "metadata": {
            "needs_background": "light"
          }
        }
      ],
      "metadata": {
        "colab": {
          "base_uri": "https://localhost:8080/",
          "height": 545
        },
        "id": "cdxJNJscFIZ-",
        "outputId": "ebf09d20-034b-431c-bad2-5200955d46bf"
      }
    },
    {
      "cell_type": "code",
      "execution_count": null,
      "source": [
        "evaluate_model(dropout_model, X_test, Y_test)"
      ],
      "outputs": [
        {
          "output_type": "stream",
          "name": "stdout",
          "text": [
            "Accuracy on test set: 78.57142686843872 %\n",
            "F1 score on test set: 65.26315789473684 %\n",
            "\n",
            "\n",
            "CONFUSION MATRIX\n",
            "\n",
            "[[90 10]\n",
            " [23 31]]\n",
            "\n",
            "\n",
            "CLASSIFICATION REPORT\n",
            "\n",
            "              precision    recall  f1-score   support\n",
            "\n",
            "           0       0.80      0.90      0.85       100\n",
            "           1       0.76      0.57      0.65        54\n",
            "\n",
            "    accuracy                           0.79       154\n",
            "   macro avg       0.78      0.74      0.75       154\n",
            "weighted avg       0.78      0.79      0.78       154\n",
            "\n",
            "\n",
            "\n"
          ]
        }
      ],
      "metadata": {
        "id": "PZ6GhKc1PkeK",
        "colab": {
          "base_uri": "https://localhost:8080/"
        },
        "outputId": "170e95bd-e261-42b9-9c2c-ca5bd5d5bb7a"
      }
    }
  ]
}